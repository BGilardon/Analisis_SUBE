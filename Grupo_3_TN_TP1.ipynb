{
  "cells": [
    {
      "cell_type": "markdown",
      "metadata": {
        "id": "4R1n7BGZnpgE"
      },
      "source": [
        "Grupo 3 Laboratorio de datos Turno Noche\n",
        "\n",
        "Integrantes:\n",
        "- Juan Pablo Gervasi 499/21\n",
        "- Bautista Gilardon 742/21\n",
        "- Carolina Yañez 425/20"
      ]
    },
    {
      "cell_type": "code",
      "execution_count": 4,
      "metadata": {
        "id": "eUrS3StZ_kOw"
      },
      "outputs": [],
      "source": [
        "import pandas as pd\n",
        "import random\n",
        "from sklearn.model_selection import train_test_split\n",
        "from formulaic import model_matrix\n",
        "from sklearn.metrics import r2_score, mean_squared_error\n",
        "from sklearn.linear_model import LinearRegression, Ridge\n",
        "import numpy as np\n",
        "import seaborn.objects as so\n",
        "import seaborn as sns\n",
        "import matplotlib.pyplot as plt\n",
        "\n",
        "\n",
        "\n",
        "pd.set_option('display.max_rows', 15)\n",
        "pd.set_option('display.max_columns', None)"
      ]
    },
    {
      "cell_type": "markdown",
      "metadata": {
        "id": "3eCMclVD_bSh"
      },
      "source": [
        "# **Procesamiento de datos**"
      ]
    },
    {
      "cell_type": "code",
      "execution_count": 5,
      "metadata": {
        "colab": {
          "base_uri": "https://localhost:8080/",
          "height": 434
        },
        "collapsed": true,
        "id": "ITiiS7Isjsr5",
        "outputId": "3357bbbc-4a98-47cc-fe56-1b13b5dfc4a1"
      },
      "outputs": [
        {
          "data": {
            "text/html": [
              "<div>\n",
              "<style scoped>\n",
              "    .dataframe tbody tr th:only-of-type {\n",
              "        vertical-align: middle;\n",
              "    }\n",
              "\n",
              "    .dataframe tbody tr th {\n",
              "        vertical-align: top;\n",
              "    }\n",
              "\n",
              "    .dataframe thead th {\n",
              "        text-align: right;\n",
              "    }\n",
              "</style>\n",
              "<table border=\"1\" class=\"dataframe\">\n",
              "  <thead>\n",
              "    <tr style=\"text-align: right;\">\n",
              "      <th></th>\n",
              "      <th>DIA_TRANSPORTE</th>\n",
              "      <th>NOMBRE_EMPRESA</th>\n",
              "      <th>LINEA</th>\n",
              "      <th>AMBA</th>\n",
              "      <th>TIPO_TRANSPORTE</th>\n",
              "      <th>JURISDICCION</th>\n",
              "      <th>PROVINCIA</th>\n",
              "      <th>MUNICIPIO</th>\n",
              "      <th>CANTIDAD</th>\n",
              "      <th>DATO_PRELIMINAR</th>\n",
              "    </tr>\n",
              "  </thead>\n",
              "  <tbody>\n",
              "    <tr>\n",
              "      <th>0</th>\n",
              "      <td>2023-01-01</td>\n",
              "      <td>MUNICIPALIDAD DE MERCEDES PROVINCIA DE BUENOS ...</td>\n",
              "      <td>1</td>\n",
              "      <td>SI</td>\n",
              "      <td>COLECTIVO</td>\n",
              "      <td>MUNICIPAL</td>\n",
              "      <td>BUENOS AIRES</td>\n",
              "      <td>MERCEDES</td>\n",
              "      <td>61</td>\n",
              "      <td>NO</td>\n",
              "    </tr>\n",
              "    <tr>\n",
              "      <th>1</th>\n",
              "      <td>2023-01-01</td>\n",
              "      <td>MUNICIPALIDAD DE MERCEDES PROVINCIA DE BUENOS ...</td>\n",
              "      <td>2B</td>\n",
              "      <td>SI</td>\n",
              "      <td>COLECTIVO</td>\n",
              "      <td>MUNICIPAL</td>\n",
              "      <td>BUENOS AIRES</td>\n",
              "      <td>MERCEDES</td>\n",
              "      <td>11</td>\n",
              "      <td>NO</td>\n",
              "    </tr>\n",
              "    <tr>\n",
              "      <th>2</th>\n",
              "      <td>2023-01-01</td>\n",
              "      <td>EMPRESA BATAN S.A.</td>\n",
              "      <td>BS_AS_LINEA 715M</td>\n",
              "      <td>NO</td>\n",
              "      <td>COLECTIVO</td>\n",
              "      <td>MUNICIPAL</td>\n",
              "      <td>BUENOS AIRES</td>\n",
              "      <td>GENERAL PUEYRREDON</td>\n",
              "      <td>1707</td>\n",
              "      <td>NO</td>\n",
              "    </tr>\n",
              "    <tr>\n",
              "      <th>3</th>\n",
              "      <td>2023-01-01</td>\n",
              "      <td>COMPAÑIA  DE TRANSPORTE VECINAL S.A.</td>\n",
              "      <td>BS_AS_LINEA_326</td>\n",
              "      <td>SI</td>\n",
              "      <td>COLECTIVO</td>\n",
              "      <td>PROVINCIAL</td>\n",
              "      <td>BUENOS AIRES</td>\n",
              "      <td>SN</td>\n",
              "      <td>438</td>\n",
              "      <td>NO</td>\n",
              "    </tr>\n",
              "    <tr>\n",
              "      <th>4</th>\n",
              "      <td>2023-01-01</td>\n",
              "      <td>EMPRESA DE TRANSPORTE PERALTA RAMOS SACI</td>\n",
              "      <td>BS_AS_LINEA_512</td>\n",
              "      <td>NO</td>\n",
              "      <td>COLECTIVO</td>\n",
              "      <td>MUNICIPAL</td>\n",
              "      <td>BUENOS AIRES</td>\n",
              "      <td>GENERAL PUEYRREDON</td>\n",
              "      <td>1189</td>\n",
              "      <td>NO</td>\n",
              "    </tr>\n",
              "  </tbody>\n",
              "</table>\n",
              "</div>"
            ],
            "text/plain": [
              "  DIA_TRANSPORTE                                     NOMBRE_EMPRESA  \\\n",
              "0     2023-01-01  MUNICIPALIDAD DE MERCEDES PROVINCIA DE BUENOS ...   \n",
              "1     2023-01-01  MUNICIPALIDAD DE MERCEDES PROVINCIA DE BUENOS ...   \n",
              "2     2023-01-01                                 EMPRESA BATAN S.A.   \n",
              "3     2023-01-01               COMPAÑIA  DE TRANSPORTE VECINAL S.A.   \n",
              "4     2023-01-01           EMPRESA DE TRANSPORTE PERALTA RAMOS SACI   \n",
              "\n",
              "              LINEA AMBA TIPO_TRANSPORTE JURISDICCION     PROVINCIA  \\\n",
              "0                 1   SI       COLECTIVO    MUNICIPAL  BUENOS AIRES   \n",
              "1                2B   SI       COLECTIVO    MUNICIPAL  BUENOS AIRES   \n",
              "2  BS_AS_LINEA 715M   NO       COLECTIVO    MUNICIPAL  BUENOS AIRES   \n",
              "3   BS_AS_LINEA_326   SI       COLECTIVO   PROVINCIAL  BUENOS AIRES   \n",
              "4   BS_AS_LINEA_512   NO       COLECTIVO    MUNICIPAL  BUENOS AIRES   \n",
              "\n",
              "            MUNICIPIO  CANTIDAD DATO_PRELIMINAR  \n",
              "0            MERCEDES        61              NO  \n",
              "1            MERCEDES        11              NO  \n",
              "2  GENERAL PUEYRREDON      1707              NO  \n",
              "3                  SN       438              NO  \n",
              "4  GENERAL PUEYRREDON      1189              NO  "
            ]
          },
          "execution_count": 5,
          "metadata": {},
          "output_type": "execute_result"
        }
      ],
      "source": [
        "Subedf = pd.read_csv(\"sube-2023.csv\")\n",
        "Subedf.head() #Vemos las primeras filas del dataframe."
      ]
    },
    {
      "cell_type": "markdown",
      "metadata": {
        "id": "zHfNaRAb_bSm"
      },
      "source": [
        "### **Ejercicio 1**"
      ]
    },
    {
      "cell_type": "markdown",
      "metadata": {
        "id": "tIJ47bgD_bSm"
      },
      "source": [
        "#### **(a) Visualizar el tipo de datos de cada columna. Transformar la columna DIA_TRANSPORTE para que sea reconocida como una fecha.**"
      ]
    },
    {
      "cell_type": "code",
      "execution_count": 6,
      "metadata": {
        "colab": {
          "base_uri": "https://localhost:8080/"
        },
        "id": "W_WWAEWRmahP",
        "outputId": "9c4e8620-8d01-494c-cb18-05020b4e672f"
      },
      "outputs": [
        {
          "name": "stdout",
          "output_type": "stream",
          "text": [
            "<class 'pandas.core.frame.DataFrame'>\n",
            "RangeIndex: 472291 entries, 0 to 472290\n",
            "Data columns (total 10 columns):\n",
            " #   Column           Non-Null Count   Dtype         \n",
            "---  ------           --------------   -----         \n",
            " 0   DIA_TRANSPORTE   472291 non-null  datetime64[ns]\n",
            " 1   NOMBRE_EMPRESA   472291 non-null  object        \n",
            " 2   LINEA            472291 non-null  object        \n",
            " 3   AMBA             472291 non-null  object        \n",
            " 4   TIPO_TRANSPORTE  472291 non-null  object        \n",
            " 5   JURISDICCION     469742 non-null  object        \n",
            " 6   PROVINCIA        469720 non-null  object        \n",
            " 7   MUNICIPIO        469720 non-null  object        \n",
            " 8   CANTIDAD         472291 non-null  int64         \n",
            " 9   DATO_PRELIMINAR  472291 non-null  object        \n",
            "dtypes: datetime64[ns](1), int64(1), object(8)\n",
            "memory usage: 36.0+ MB\n"
          ]
        }
      ],
      "source": [
        "Subedf['DIA_TRANSPORTE'] = pd.to_datetime(Subedf['DIA_TRANSPORTE'])\n",
        "Subedf.info() #Vemos cómo está compuesto el dataframe."
      ]
    },
    {
      "cell_type": "markdown",
      "metadata": {
        "id": "ok6kLQaW_bSn"
      },
      "source": [
        "#### **(b) Agregar tres columnas al DataFrame:**"
      ]
    },
    {
      "cell_type": "code",
      "execution_count": 7,
      "metadata": {
        "colab": {
          "base_uri": "https://localhost:8080/",
          "height": 434
        },
        "id": "Zj8FUCBKnZJc",
        "outputId": "4564eec4-4b0f-4a88-cce1-28278c2f5ee6"
      },
      "outputs": [
        {
          "data": {
            "text/html": [
              "<div>\n",
              "<style scoped>\n",
              "    .dataframe tbody tr th:only-of-type {\n",
              "        vertical-align: middle;\n",
              "    }\n",
              "\n",
              "    .dataframe tbody tr th {\n",
              "        vertical-align: top;\n",
              "    }\n",
              "\n",
              "    .dataframe thead th {\n",
              "        text-align: right;\n",
              "    }\n",
              "</style>\n",
              "<table border=\"1\" class=\"dataframe\">\n",
              "  <thead>\n",
              "    <tr style=\"text-align: right;\">\n",
              "      <th></th>\n",
              "      <th>DIA_TRANSPORTE</th>\n",
              "      <th>NOMBRE_EMPRESA</th>\n",
              "      <th>LINEA</th>\n",
              "      <th>AMBA</th>\n",
              "      <th>TIPO_TRANSPORTE</th>\n",
              "      <th>JURISDICCION</th>\n",
              "      <th>PROVINCIA</th>\n",
              "      <th>MUNICIPIO</th>\n",
              "      <th>CANTIDAD</th>\n",
              "      <th>DATO_PRELIMINAR</th>\n",
              "      <th>FECHA_DIA</th>\n",
              "      <th>FECHA_ORDINAL</th>\n",
              "      <th>FECHA_MES</th>\n",
              "    </tr>\n",
              "  </thead>\n",
              "  <tbody>\n",
              "    <tr>\n",
              "      <th>0</th>\n",
              "      <td>2023-01-01</td>\n",
              "      <td>MUNICIPALIDAD DE MERCEDES PROVINCIA DE BUENOS ...</td>\n",
              "      <td>1</td>\n",
              "      <td>SI</td>\n",
              "      <td>COLECTIVO</td>\n",
              "      <td>MUNICIPAL</td>\n",
              "      <td>BUENOS AIRES</td>\n",
              "      <td>MERCEDES</td>\n",
              "      <td>61</td>\n",
              "      <td>NO</td>\n",
              "      <td>Sun</td>\n",
              "      <td>1</td>\n",
              "      <td>1</td>\n",
              "    </tr>\n",
              "    <tr>\n",
              "      <th>1</th>\n",
              "      <td>2023-01-01</td>\n",
              "      <td>MUNICIPALIDAD DE MERCEDES PROVINCIA DE BUENOS ...</td>\n",
              "      <td>2B</td>\n",
              "      <td>SI</td>\n",
              "      <td>COLECTIVO</td>\n",
              "      <td>MUNICIPAL</td>\n",
              "      <td>BUENOS AIRES</td>\n",
              "      <td>MERCEDES</td>\n",
              "      <td>11</td>\n",
              "      <td>NO</td>\n",
              "      <td>Sun</td>\n",
              "      <td>1</td>\n",
              "      <td>1</td>\n",
              "    </tr>\n",
              "    <tr>\n",
              "      <th>2</th>\n",
              "      <td>2023-01-01</td>\n",
              "      <td>EMPRESA BATAN S.A.</td>\n",
              "      <td>BS_AS_LINEA 715M</td>\n",
              "      <td>NO</td>\n",
              "      <td>COLECTIVO</td>\n",
              "      <td>MUNICIPAL</td>\n",
              "      <td>BUENOS AIRES</td>\n",
              "      <td>GENERAL PUEYRREDON</td>\n",
              "      <td>1707</td>\n",
              "      <td>NO</td>\n",
              "      <td>Sun</td>\n",
              "      <td>1</td>\n",
              "      <td>1</td>\n",
              "    </tr>\n",
              "    <tr>\n",
              "      <th>3</th>\n",
              "      <td>2023-01-01</td>\n",
              "      <td>COMPAÑIA  DE TRANSPORTE VECINAL S.A.</td>\n",
              "      <td>BS_AS_LINEA_326</td>\n",
              "      <td>SI</td>\n",
              "      <td>COLECTIVO</td>\n",
              "      <td>PROVINCIAL</td>\n",
              "      <td>BUENOS AIRES</td>\n",
              "      <td>SN</td>\n",
              "      <td>438</td>\n",
              "      <td>NO</td>\n",
              "      <td>Sun</td>\n",
              "      <td>1</td>\n",
              "      <td>1</td>\n",
              "    </tr>\n",
              "    <tr>\n",
              "      <th>4</th>\n",
              "      <td>2023-01-01</td>\n",
              "      <td>EMPRESA DE TRANSPORTE PERALTA RAMOS SACI</td>\n",
              "      <td>BS_AS_LINEA_512</td>\n",
              "      <td>NO</td>\n",
              "      <td>COLECTIVO</td>\n",
              "      <td>MUNICIPAL</td>\n",
              "      <td>BUENOS AIRES</td>\n",
              "      <td>GENERAL PUEYRREDON</td>\n",
              "      <td>1189</td>\n",
              "      <td>NO</td>\n",
              "      <td>Sun</td>\n",
              "      <td>1</td>\n",
              "      <td>1</td>\n",
              "    </tr>\n",
              "  </tbody>\n",
              "</table>\n",
              "</div>"
            ],
            "text/plain": [
              "  DIA_TRANSPORTE                                     NOMBRE_EMPRESA  \\\n",
              "0     2023-01-01  MUNICIPALIDAD DE MERCEDES PROVINCIA DE BUENOS ...   \n",
              "1     2023-01-01  MUNICIPALIDAD DE MERCEDES PROVINCIA DE BUENOS ...   \n",
              "2     2023-01-01                                 EMPRESA BATAN S.A.   \n",
              "3     2023-01-01               COMPAÑIA  DE TRANSPORTE VECINAL S.A.   \n",
              "4     2023-01-01           EMPRESA DE TRANSPORTE PERALTA RAMOS SACI   \n",
              "\n",
              "              LINEA AMBA TIPO_TRANSPORTE JURISDICCION     PROVINCIA  \\\n",
              "0                 1   SI       COLECTIVO    MUNICIPAL  BUENOS AIRES   \n",
              "1                2B   SI       COLECTIVO    MUNICIPAL  BUENOS AIRES   \n",
              "2  BS_AS_LINEA 715M   NO       COLECTIVO    MUNICIPAL  BUENOS AIRES   \n",
              "3   BS_AS_LINEA_326   SI       COLECTIVO   PROVINCIAL  BUENOS AIRES   \n",
              "4   BS_AS_LINEA_512   NO       COLECTIVO    MUNICIPAL  BUENOS AIRES   \n",
              "\n",
              "            MUNICIPIO  CANTIDAD DATO_PRELIMINAR FECHA_DIA  FECHA_ORDINAL  \\\n",
              "0            MERCEDES        61              NO       Sun              1   \n",
              "1            MERCEDES        11              NO       Sun              1   \n",
              "2  GENERAL PUEYRREDON      1707              NO       Sun              1   \n",
              "3                  SN       438              NO       Sun              1   \n",
              "4  GENERAL PUEYRREDON      1189              NO       Sun              1   \n",
              "\n",
              "   FECHA_MES  \n",
              "0          1  \n",
              "1          1  \n",
              "2          1  \n",
              "3          1  \n",
              "4          1  "
            ]
          },
          "execution_count": 7,
          "metadata": {},
          "output_type": "execute_result"
        }
      ],
      "source": [
        "Subedf['FECHA_DIA'] = Subedf['DIA_TRANSPORTE'].apply(lambda x : x.day_name()[0:3]) #Agregamos las columnas al final del dataframe.\n",
        "Subedf['FECHA_ORDINAL'] = Subedf['DIA_TRANSPORTE'].apply(lambda x : x.day_of_year)\n",
        "Subedf['FECHA_MES'] = Subedf['DIA_TRANSPORTE'].apply(lambda x : x.month)\n",
        "Subedf.head()"
      ]
    },
    {
      "cell_type": "markdown",
      "metadata": {
        "id": "6CZJiXtL_bSp"
      },
      "source": [
        "### **Ejercicio 2. Crear el DataFrame datos_amba, el cual sólo debe tener datos de AMBA y debe excluir datos preliminares.**\n"
      ]
    },
    {
      "cell_type": "code",
      "execution_count": 8,
      "metadata": {
        "colab": {
          "base_uri": "https://localhost:8080/",
          "height": 206
        },
        "id": "Xab-y1YBq3vZ",
        "outputId": "8d2e177f-aed7-475a-82fc-e31512fbda44"
      },
      "outputs": [
        {
          "data": {
            "text/html": [
              "<div>\n",
              "<style scoped>\n",
              "    .dataframe tbody tr th:only-of-type {\n",
              "        vertical-align: middle;\n",
              "    }\n",
              "\n",
              "    .dataframe tbody tr th {\n",
              "        vertical-align: top;\n",
              "    }\n",
              "\n",
              "    .dataframe thead th {\n",
              "        text-align: right;\n",
              "    }\n",
              "</style>\n",
              "<table border=\"1\" class=\"dataframe\">\n",
              "  <thead>\n",
              "    <tr style=\"text-align: right;\">\n",
              "      <th></th>\n",
              "      <th>fecha</th>\n",
              "      <th>fecha_dia</th>\n",
              "      <th>fecha_mes</th>\n",
              "      <th>fecha_ordinal</th>\n",
              "      <th>jurisdiccion</th>\n",
              "      <th>linea</th>\n",
              "      <th>pasajeros</th>\n",
              "      <th>tipo_transporte</th>\n",
              "    </tr>\n",
              "  </thead>\n",
              "  <tbody>\n",
              "    <tr>\n",
              "      <th>0</th>\n",
              "      <td>2023-01-01</td>\n",
              "      <td>Sun</td>\n",
              "      <td>1</td>\n",
              "      <td>1</td>\n",
              "      <td>MUNICIPAL</td>\n",
              "      <td>1</td>\n",
              "      <td>61</td>\n",
              "      <td>COLECTIVO</td>\n",
              "    </tr>\n",
              "    <tr>\n",
              "      <th>1</th>\n",
              "      <td>2023-01-01</td>\n",
              "      <td>Sun</td>\n",
              "      <td>1</td>\n",
              "      <td>1</td>\n",
              "      <td>MUNICIPAL</td>\n",
              "      <td>2B</td>\n",
              "      <td>11</td>\n",
              "      <td>COLECTIVO</td>\n",
              "    </tr>\n",
              "    <tr>\n",
              "      <th>3</th>\n",
              "      <td>2023-01-01</td>\n",
              "      <td>Sun</td>\n",
              "      <td>1</td>\n",
              "      <td>1</td>\n",
              "      <td>PROVINCIAL</td>\n",
              "      <td>BS_AS_LINEA_326</td>\n",
              "      <td>438</td>\n",
              "      <td>COLECTIVO</td>\n",
              "    </tr>\n",
              "    <tr>\n",
              "      <th>5</th>\n",
              "      <td>2023-01-01</td>\n",
              "      <td>Sun</td>\n",
              "      <td>1</td>\n",
              "      <td>1</td>\n",
              "      <td>MUNICIPAL</td>\n",
              "      <td>BS_AS_LINEA_514</td>\n",
              "      <td>3067</td>\n",
              "      <td>COLECTIVO</td>\n",
              "    </tr>\n",
              "    <tr>\n",
              "      <th>6</th>\n",
              "      <td>2023-01-01</td>\n",
              "      <td>Sun</td>\n",
              "      <td>1</td>\n",
              "      <td>1</td>\n",
              "      <td>MUNICIPAL</td>\n",
              "      <td>BS_AS_LINEA_522</td>\n",
              "      <td>332</td>\n",
              "      <td>COLECTIVO</td>\n",
              "    </tr>\n",
              "  </tbody>\n",
              "</table>\n",
              "</div>"
            ],
            "text/plain": [
              "       fecha fecha_dia  fecha_mes  fecha_ordinal jurisdiccion  \\\n",
              "0 2023-01-01       Sun          1              1    MUNICIPAL   \n",
              "1 2023-01-01       Sun          1              1    MUNICIPAL   \n",
              "3 2023-01-01       Sun          1              1   PROVINCIAL   \n",
              "5 2023-01-01       Sun          1              1    MUNICIPAL   \n",
              "6 2023-01-01       Sun          1              1    MUNICIPAL   \n",
              "\n",
              "             linea  pasajeros tipo_transporte  \n",
              "0                1         61       COLECTIVO  \n",
              "1               2B         11       COLECTIVO  \n",
              "3  BS_AS_LINEA_326        438       COLECTIVO  \n",
              "5  BS_AS_LINEA_514       3067       COLECTIVO  \n",
              "6  BS_AS_LINEA_522        332       COLECTIVO  "
            ]
          },
          "execution_count": 8,
          "metadata": {},
          "output_type": "execute_result"
        }
      ],
      "source": [
        "datos_amba = pd.DataFrame()\n",
        "AMBAfiltro = Subedf['AMBA'] == 'SI' #Vamos a usar esto como condición restictiva para aplicarla a cada columna.\n",
        "datos_amba['fecha'] = Subedf['DIA_TRANSPORTE'][AMBAfiltro]\n",
        "datos_amba['fecha_dia'] = Subedf['FECHA_DIA'][AMBAfiltro]\n",
        "datos_amba['fecha_mes'] = Subedf['FECHA_MES'][AMBAfiltro]\n",
        "datos_amba['fecha_ordinal'] = Subedf['FECHA_ORDINAL'][AMBAfiltro]\n",
        "datos_amba['jurisdiccion'] = Subedf['JURISDICCION'][AMBAfiltro]\n",
        "datos_amba['linea'] = Subedf['LINEA'][AMBAfiltro]\n",
        "datos_amba['pasajeros'] = Subedf['CANTIDAD'][AMBAfiltro]\n",
        "datos_amba['tipo_transporte'] = Subedf['TIPO_TRANSPORTE'][AMBAfiltro]\n",
        "datos_amba.head()"
      ]
    },
    {
      "cell_type": "markdown",
      "metadata": {
        "id": "56JEwDElId35"
      },
      "source": [
        "### **Ejercicio 3. Utilizando datos_amba, identificar:**"
      ]
    },
    {
      "cell_type": "markdown",
      "metadata": {
        "id": "mQyIjc9O_bSq"
      },
      "source": [
        "#### **(a) la proporción de la cantidad total anual de pasajeros que le corresponde a cada medio de transporte**"
      ]
    },
    {
      "cell_type": "code",
      "execution_count": 9,
      "metadata": {
        "colab": {
          "base_uri": "https://localhost:8080/"
        },
        "id": "RNokZKjHyR5W",
        "outputId": "f5709d51-b509-4e1f-baa2-1bb6dc4636ec"
      },
      "outputs": [
        {
          "name": "stdout",
          "output_type": "stream",
          "text": [
            "COLECTIVO : 83.77%\n",
            "SUBTE : 6.81%\n",
            "TREN : 9.42%\n"
          ]
        }
      ],
      "source": [
        "Cantidad_total_pasajeros = datos_amba['pasajeros'].sum()\n",
        "Cantidad_por_tipo = datos_amba.groupby('tipo_transporte')['pasajeros'].sum()/Cantidad_total_pasajeros*100 #Cálculo del porcentaje\n",
        "\n",
        "(\n",
        "    so.Plot(data = datos_amba, x = 'tipo_transporte', y = 'pasajeros', text = 'tipo_transporte')\n",
        "    .add(so.Bar(), so.Hist())\n",
        ")\n",
        "for medio, cantidad in zip(Cantidad_por_tipo.index,Cantidad_por_tipo.values):\n",
        "    print( f\"{medio} : {cantidad :.2f}%\" )"
      ]
    },
    {
      "cell_type": "markdown",
      "metadata": {
        "id": "RLwQVexr_bSr"
      },
      "source": [
        "#### **(b) la tupla (mes, línea de subte) donde viajó la mayor cantidad de pasajeros**"
      ]
    },
    {
      "cell_type": "code",
      "execution_count": 10,
      "metadata": {
        "colab": {
          "base_uri": "https://localhost:8080/"
        },
        "collapsed": true,
        "id": "C1SnxsESzi9k",
        "outputId": "2153beae-00ba-4644-dd5e-ad12a79af4dc"
      },
      "outputs": [
        {
          "name": "stdout",
          "output_type": "stream",
          "text": [
            "Mes: 8 \n",
            "Linea: LINEA_B\n"
          ]
        }
      ],
      "source": [
        "DatosSubte = datos_amba.query('tipo_transporte == \"SUBTE\"')\n",
        "DatosMesPasajeros = DatosSubte[['fecha_mes', 'linea', 'pasajeros']].groupby(['fecha_mes', 'linea']).sum()\n",
        "maximoAgrupado = DatosMesPasajeros['pasajeros'].idxmax()\n",
        "print(f\"Mes: {maximoAgrupado[0]} \\nLinea: {maximoAgrupado[1]}\")\n"
      ]
    },
    {
      "cell_type": "markdown",
      "metadata": {
        "id": "NVswF9Na_bSr"
      },
      "source": [
        "#### **(c) el día hábil con menor desvío estándar en cantidad de pasajeros**"
      ]
    },
    {
      "cell_type": "code",
      "execution_count": 11,
      "metadata": {
        "colab": {
          "base_uri": "https://localhost:8080/"
        },
        "id": "WfBp3Kzm5NCC",
        "outputId": "338d68eb-7f3d-44f3-c0c0-516f7e41c5c3"
      },
      "outputs": [
        {
          "name": "stdout",
          "output_type": "stream",
          "text": [
            "El día hábil con menor desvío estándar es el Lunes, con un valor de 33574.\n"
          ]
        }
      ],
      "source": [
        "Traduccion = {'Mon':'Lunes',\"Tue\":\"Martes\", \"Wed\":\"Miércoles\", \"Thu\":\"Jueves\", \"Fri\":\"Viernes\", \"Sat\":\"Sábado\", \"Sun\":\"Domingo\"}\n",
        "Dia =  datos_amba.query('fecha_dia != \"Sun\" and fecha_dia != \"Sat\"').groupby('fecha_dia')['pasajeros'].std().idxmin()\n",
        "Desviacion = datos_amba.query('fecha_dia != \"Sun\" and fecha_dia != \"Sat\"').groupby('fecha_dia')['pasajeros'].std().min()\n",
        "\n",
        "print(f\"El día hábil con menor desvío estándar es el {Traduccion[Dia]}, con un valor de {Desviacion :.0f}.\")"
      ]
    },
    {
      "cell_type": "markdown",
      "metadata": {
        "id": "GStc_yGcHUui"
      },
      "source": [
        "# **Análisis Exploratorio**"
      ]
    },
    {
      "cell_type": "markdown",
      "metadata": {
        "id": "n_KpMNJHIELr"
      },
      "source": [
        "### **Ejercicio 4. La idea de este ítem es que realicen un análisis exploratorio de los datos, aplicando las herramientas de visualización (seaborn.objects, seaborn y/o matplotlib) y de resumen de datos (media, mediana, desvío estándar, operaciones sobre el DataFrame, etc.).**"
      ]
    },
    {
      "cell_type": "markdown",
      "metadata": {
        "id": "HifoXAHHI6GK"
      },
      "source": [
        "#### **Análisis Scaloneta**"
      ]
    },
    {
      "cell_type": "markdown",
      "metadata": {
        "id": "uwFu8G7tKHFi"
      },
      "source": [
        "La idea es ver si el mundial 2022 tuvo algún efecto sobre el uso del transporte público. Vamos a usar un dataframe distinto al anterior (el del 2022) y para facilitar ese análisis vamos a agregar dos columnas al dataframe que indiquen el día y el mes de cada fecha, igual que en el ejercicio anterior."
      ]
    },
    {
      "cell_type": "code",
      "execution_count": 12,
      "metadata": {
        "colab": {
          "base_uri": "https://localhost:8080/",
          "height": 434
        },
        "collapsed": true,
        "id": "SJ7C3bdm_GGt",
        "outputId": "3a8de81f-6e62-4f8f-9e7e-bae041ed1dee"
      },
      "outputs": [
        {
          "data": {
            "text/html": [
              "<div>\n",
              "<style scoped>\n",
              "    .dataframe tbody tr th:only-of-type {\n",
              "        vertical-align: middle;\n",
              "    }\n",
              "\n",
              "    .dataframe tbody tr th {\n",
              "        vertical-align: top;\n",
              "    }\n",
              "\n",
              "    .dataframe thead th {\n",
              "        text-align: right;\n",
              "    }\n",
              "</style>\n",
              "<table border=\"1\" class=\"dataframe\">\n",
              "  <thead>\n",
              "    <tr style=\"text-align: right;\">\n",
              "      <th></th>\n",
              "      <th>DIA_TRANSPORTE</th>\n",
              "      <th>NOMBRE_EMPRESA</th>\n",
              "      <th>LINEA</th>\n",
              "      <th>AMBA</th>\n",
              "      <th>TIPO_TRANSPORTE</th>\n",
              "      <th>JURISDICCION</th>\n",
              "      <th>PROVINCIA</th>\n",
              "      <th>MUNICIPIO</th>\n",
              "      <th>CANTIDAD</th>\n",
              "      <th>DATO_PRELIMINAR</th>\n",
              "    </tr>\n",
              "  </thead>\n",
              "  <tbody>\n",
              "    <tr>\n",
              "      <th>0</th>\n",
              "      <td>2022-01-01</td>\n",
              "      <td>MUNICIPALIDAD DE MERCEDES PROVINCIA DE BUENOS ...</td>\n",
              "      <td>1</td>\n",
              "      <td>SI</td>\n",
              "      <td>COLECTIVO</td>\n",
              "      <td>MUNICIPAL</td>\n",
              "      <td>BUENOS AIRES</td>\n",
              "      <td>MERCEDES</td>\n",
              "      <td>10</td>\n",
              "      <td>NO</td>\n",
              "    </tr>\n",
              "    <tr>\n",
              "      <th>1</th>\n",
              "      <td>2022-01-01</td>\n",
              "      <td>MUNICIPALIDAD DE MERCEDES PROVINCIA DE BUENOS ...</td>\n",
              "      <td>2B</td>\n",
              "      <td>SI</td>\n",
              "      <td>COLECTIVO</td>\n",
              "      <td>MUNICIPAL</td>\n",
              "      <td>BUENOS AIRES</td>\n",
              "      <td>MERCEDES</td>\n",
              "      <td>19</td>\n",
              "      <td>NO</td>\n",
              "    </tr>\n",
              "    <tr>\n",
              "      <th>2</th>\n",
              "      <td>2022-01-01</td>\n",
              "      <td>EMPRESA BATAN S.A.</td>\n",
              "      <td>BS_AS_LINEA 715M</td>\n",
              "      <td>NO</td>\n",
              "      <td>COLECTIVO</td>\n",
              "      <td>MUNICIPAL</td>\n",
              "      <td>BUENOS AIRES</td>\n",
              "      <td>GENERAL PUEYRREDON</td>\n",
              "      <td>1418</td>\n",
              "      <td>NO</td>\n",
              "    </tr>\n",
              "    <tr>\n",
              "      <th>3</th>\n",
              "      <td>2022-01-01</td>\n",
              "      <td>COMPAÑIA  DE TRANSPORTE VECINAL S.A.</td>\n",
              "      <td>BS_AS_LINEA_326</td>\n",
              "      <td>SI</td>\n",
              "      <td>COLECTIVO</td>\n",
              "      <td>PROVINCIAL</td>\n",
              "      <td>BUENOS AIRES</td>\n",
              "      <td>SN</td>\n",
              "      <td>675</td>\n",
              "      <td>NO</td>\n",
              "    </tr>\n",
              "    <tr>\n",
              "      <th>4</th>\n",
              "      <td>2022-01-01</td>\n",
              "      <td>EMPRESA DE TRANSPORTE PERALTA RAMOS SACI</td>\n",
              "      <td>BS_AS_LINEA_512</td>\n",
              "      <td>NO</td>\n",
              "      <td>COLECTIVO</td>\n",
              "      <td>MUNICIPAL</td>\n",
              "      <td>BUENOS AIRES</td>\n",
              "      <td>GENERAL PUEYRREDON</td>\n",
              "      <td>1906</td>\n",
              "      <td>NO</td>\n",
              "    </tr>\n",
              "  </tbody>\n",
              "</table>\n",
              "</div>"
            ],
            "text/plain": [
              "  DIA_TRANSPORTE                                     NOMBRE_EMPRESA  \\\n",
              "0     2022-01-01  MUNICIPALIDAD DE MERCEDES PROVINCIA DE BUENOS ...   \n",
              "1     2022-01-01  MUNICIPALIDAD DE MERCEDES PROVINCIA DE BUENOS ...   \n",
              "2     2022-01-01                                 EMPRESA BATAN S.A.   \n",
              "3     2022-01-01               COMPAÑIA  DE TRANSPORTE VECINAL S.A.   \n",
              "4     2022-01-01           EMPRESA DE TRANSPORTE PERALTA RAMOS SACI   \n",
              "\n",
              "              LINEA AMBA TIPO_TRANSPORTE JURISDICCION     PROVINCIA  \\\n",
              "0                 1   SI       COLECTIVO    MUNICIPAL  BUENOS AIRES   \n",
              "1                2B   SI       COLECTIVO    MUNICIPAL  BUENOS AIRES   \n",
              "2  BS_AS_LINEA 715M   NO       COLECTIVO    MUNICIPAL  BUENOS AIRES   \n",
              "3   BS_AS_LINEA_326   SI       COLECTIVO   PROVINCIAL  BUENOS AIRES   \n",
              "4   BS_AS_LINEA_512   NO       COLECTIVO    MUNICIPAL  BUENOS AIRES   \n",
              "\n",
              "            MUNICIPIO  CANTIDAD DATO_PRELIMINAR  \n",
              "0            MERCEDES        10              NO  \n",
              "1            MERCEDES        19              NO  \n",
              "2  GENERAL PUEYRREDON      1418              NO  \n",
              "3                  SN       675              NO  \n",
              "4  GENERAL PUEYRREDON      1906              NO  "
            ]
          },
          "execution_count": 12,
          "metadata": {},
          "output_type": "execute_result"
        }
      ],
      "source": [
        "DF2022 = pd.read_csv(\"dat-ab-usos-2022.csv\")\n",
        "DF2022.head()"
      ]
    },
    {
      "cell_type": "code",
      "execution_count": 13,
      "metadata": {
        "id": "MMI0lcg4UA83"
      },
      "outputs": [],
      "source": [
        "DF2022[\"DIA_TRANSPORTE\"] = pd.to_datetime(DF2022[\"DIA_TRANSPORTE\"])"
      ]
    },
    {
      "cell_type": "code",
      "execution_count": 14,
      "metadata": {
        "colab": {
          "base_uri": "https://localhost:8080/",
          "height": 434
        },
        "collapsed": true,
        "id": "R26WR0GNRyrO",
        "outputId": "a5bca0a3-c8c2-4dd2-c550-8339f0563cf5"
      },
      "outputs": [
        {
          "data": {
            "text/html": [
              "<div>\n",
              "<style scoped>\n",
              "    .dataframe tbody tr th:only-of-type {\n",
              "        vertical-align: middle;\n",
              "    }\n",
              "\n",
              "    .dataframe tbody tr th {\n",
              "        vertical-align: top;\n",
              "    }\n",
              "\n",
              "    .dataframe thead th {\n",
              "        text-align: right;\n",
              "    }\n",
              "</style>\n",
              "<table border=\"1\" class=\"dataframe\">\n",
              "  <thead>\n",
              "    <tr style=\"text-align: right;\">\n",
              "      <th></th>\n",
              "      <th>DIA_TRANSPORTE</th>\n",
              "      <th>NOMBRE_EMPRESA</th>\n",
              "      <th>LINEA</th>\n",
              "      <th>AMBA</th>\n",
              "      <th>TIPO_TRANSPORTE</th>\n",
              "      <th>JURISDICCION</th>\n",
              "      <th>PROVINCIA</th>\n",
              "      <th>MUNICIPIO</th>\n",
              "      <th>CANTIDAD</th>\n",
              "      <th>DATO_PRELIMINAR</th>\n",
              "      <th>FECHA_DIA</th>\n",
              "      <th>FECHA_MES</th>\n",
              "    </tr>\n",
              "  </thead>\n",
              "  <tbody>\n",
              "    <tr>\n",
              "      <th>0</th>\n",
              "      <td>2022-01-01</td>\n",
              "      <td>MUNICIPALIDAD DE MERCEDES PROVINCIA DE BUENOS ...</td>\n",
              "      <td>1</td>\n",
              "      <td>SI</td>\n",
              "      <td>COLECTIVO</td>\n",
              "      <td>MUNICIPAL</td>\n",
              "      <td>BUENOS AIRES</td>\n",
              "      <td>MERCEDES</td>\n",
              "      <td>10</td>\n",
              "      <td>NO</td>\n",
              "      <td>Saturday</td>\n",
              "      <td>January</td>\n",
              "    </tr>\n",
              "    <tr>\n",
              "      <th>1</th>\n",
              "      <td>2022-01-01</td>\n",
              "      <td>MUNICIPALIDAD DE MERCEDES PROVINCIA DE BUENOS ...</td>\n",
              "      <td>2B</td>\n",
              "      <td>SI</td>\n",
              "      <td>COLECTIVO</td>\n",
              "      <td>MUNICIPAL</td>\n",
              "      <td>BUENOS AIRES</td>\n",
              "      <td>MERCEDES</td>\n",
              "      <td>19</td>\n",
              "      <td>NO</td>\n",
              "      <td>Saturday</td>\n",
              "      <td>January</td>\n",
              "    </tr>\n",
              "    <tr>\n",
              "      <th>2</th>\n",
              "      <td>2022-01-01</td>\n",
              "      <td>EMPRESA BATAN S.A.</td>\n",
              "      <td>BS_AS_LINEA 715M</td>\n",
              "      <td>NO</td>\n",
              "      <td>COLECTIVO</td>\n",
              "      <td>MUNICIPAL</td>\n",
              "      <td>BUENOS AIRES</td>\n",
              "      <td>GENERAL PUEYRREDON</td>\n",
              "      <td>1418</td>\n",
              "      <td>NO</td>\n",
              "      <td>Saturday</td>\n",
              "      <td>January</td>\n",
              "    </tr>\n",
              "    <tr>\n",
              "      <th>3</th>\n",
              "      <td>2022-01-01</td>\n",
              "      <td>COMPAÑIA  DE TRANSPORTE VECINAL S.A.</td>\n",
              "      <td>BS_AS_LINEA_326</td>\n",
              "      <td>SI</td>\n",
              "      <td>COLECTIVO</td>\n",
              "      <td>PROVINCIAL</td>\n",
              "      <td>BUENOS AIRES</td>\n",
              "      <td>SN</td>\n",
              "      <td>675</td>\n",
              "      <td>NO</td>\n",
              "      <td>Saturday</td>\n",
              "      <td>January</td>\n",
              "    </tr>\n",
              "    <tr>\n",
              "      <th>4</th>\n",
              "      <td>2022-01-01</td>\n",
              "      <td>EMPRESA DE TRANSPORTE PERALTA RAMOS SACI</td>\n",
              "      <td>BS_AS_LINEA_512</td>\n",
              "      <td>NO</td>\n",
              "      <td>COLECTIVO</td>\n",
              "      <td>MUNICIPAL</td>\n",
              "      <td>BUENOS AIRES</td>\n",
              "      <td>GENERAL PUEYRREDON</td>\n",
              "      <td>1906</td>\n",
              "      <td>NO</td>\n",
              "      <td>Saturday</td>\n",
              "      <td>January</td>\n",
              "    </tr>\n",
              "  </tbody>\n",
              "</table>\n",
              "</div>"
            ],
            "text/plain": [
              "  DIA_TRANSPORTE                                     NOMBRE_EMPRESA  \\\n",
              "0     2022-01-01  MUNICIPALIDAD DE MERCEDES PROVINCIA DE BUENOS ...   \n",
              "1     2022-01-01  MUNICIPALIDAD DE MERCEDES PROVINCIA DE BUENOS ...   \n",
              "2     2022-01-01                                 EMPRESA BATAN S.A.   \n",
              "3     2022-01-01               COMPAÑIA  DE TRANSPORTE VECINAL S.A.   \n",
              "4     2022-01-01           EMPRESA DE TRANSPORTE PERALTA RAMOS SACI   \n",
              "\n",
              "              LINEA AMBA TIPO_TRANSPORTE JURISDICCION     PROVINCIA  \\\n",
              "0                 1   SI       COLECTIVO    MUNICIPAL  BUENOS AIRES   \n",
              "1                2B   SI       COLECTIVO    MUNICIPAL  BUENOS AIRES   \n",
              "2  BS_AS_LINEA 715M   NO       COLECTIVO    MUNICIPAL  BUENOS AIRES   \n",
              "3   BS_AS_LINEA_326   SI       COLECTIVO   PROVINCIAL  BUENOS AIRES   \n",
              "4   BS_AS_LINEA_512   NO       COLECTIVO    MUNICIPAL  BUENOS AIRES   \n",
              "\n",
              "            MUNICIPIO  CANTIDAD DATO_PRELIMINAR FECHA_DIA FECHA_MES  \n",
              "0            MERCEDES        10              NO  Saturday   January  \n",
              "1            MERCEDES        19              NO  Saturday   January  \n",
              "2  GENERAL PUEYRREDON      1418              NO  Saturday   January  \n",
              "3                  SN       675              NO  Saturday   January  \n",
              "4  GENERAL PUEYRREDON      1906              NO  Saturday   January  "
            ]
          },
          "execution_count": 14,
          "metadata": {},
          "output_type": "execute_result"
        }
      ],
      "source": [
        "DF2022[\"FECHA_DIA\"] = DF2022[\"DIA_TRANSPORTE\"].dt.day_name()\n",
        "DF2022[\"FECHA_MES\"] = DF2022[\"DIA_TRANSPORTE\"].dt.month_name()\n",
        "DF2022.head()"
      ]
    },
    {
      "cell_type": "markdown",
      "metadata": {
        "id": "TUxLN6viKzdv"
      },
      "source": [
        "Ahora nos interesa comparar las fechas del mundial con otras cercanas a ellas, por lo que decidimos trabajar solo con los datos de Noviembre y Diciembre. También agregamos el lunes 31 de Octubre por una cuestión de prolijidad que va a verse más adelante."
      ]
    },
    {
      "cell_type": "code",
      "execution_count": 15,
      "metadata": {
        "id": "rCWwVcskbHin"
      },
      "outputs": [],
      "source": [
        "#Con esto le pedimos que arme un nuevo dataframe DFMundial que tome solamente los meses Noviembre y Diciembre y el último día de Octubre del dataframe DF2022.\n",
        "DFMundial = DF2022.query(\"FECHA_MES in ['November', 'December'] or DIA_TRANSPORTE in ['2022-10-31']\")"
      ]
    },
    {
      "cell_type": "markdown",
      "metadata": {
        "id": "oF5X2JwKLJ3i"
      },
      "source": [
        "Traducimos al español por comodidad"
      ]
    },
    {
      "cell_type": "code",
      "execution_count": 16,
      "metadata": {
        "colab": {
          "base_uri": "https://localhost:8080/",
          "height": 642
        },
        "collapsed": true,
        "id": "z-ry_m23cFk9",
        "outputId": "899fc168-bdb0-4dde-994c-67a4c45c3686"
      },
      "outputs": [
        {
          "name": "stderr",
          "output_type": "stream",
          "text": [
            "C:\\Users\\bauti\\AppData\\Local\\Temp\\ipykernel_12608\\192345037.py:13: SettingWithCopyWarning: \n",
            "A value is trying to be set on a copy of a slice from a DataFrame.\n",
            "Try using .loc[row_indexer,col_indexer] = value instead\n",
            "\n",
            "See the caveats in the documentation: https://pandas.pydata.org/pandas-docs/stable/user_guide/indexing.html#returning-a-view-versus-a-copy\n",
            "  DFMundial[\"FECHA_DIA\"] = DFMundial[\"FECHA_DIA\"].apply(lambda x: Traduccion[x])\n",
            "C:\\Users\\bauti\\AppData\\Local\\Temp\\ipykernel_12608\\192345037.py:14: SettingWithCopyWarning: \n",
            "A value is trying to be set on a copy of a slice from a DataFrame.\n",
            "Try using .loc[row_indexer,col_indexer] = value instead\n",
            "\n",
            "See the caveats in the documentation: https://pandas.pydata.org/pandas-docs/stable/user_guide/indexing.html#returning-a-view-versus-a-copy\n",
            "  DFMundial[\"FECHA_MES\"] = DFMundial[\"FECHA_MES\"].apply(lambda x: Traduccion[x])\n"
          ]
        },
        {
          "data": {
            "text/html": [
              "<div>\n",
              "<style scoped>\n",
              "    .dataframe tbody tr th:only-of-type {\n",
              "        vertical-align: middle;\n",
              "    }\n",
              "\n",
              "    .dataframe tbody tr th {\n",
              "        vertical-align: top;\n",
              "    }\n",
              "\n",
              "    .dataframe thead th {\n",
              "        text-align: right;\n",
              "    }\n",
              "</style>\n",
              "<table border=\"1\" class=\"dataframe\">\n",
              "  <thead>\n",
              "    <tr style=\"text-align: right;\">\n",
              "      <th></th>\n",
              "      <th>DIA_TRANSPORTE</th>\n",
              "      <th>NOMBRE_EMPRESA</th>\n",
              "      <th>LINEA</th>\n",
              "      <th>AMBA</th>\n",
              "      <th>TIPO_TRANSPORTE</th>\n",
              "      <th>JURISDICCION</th>\n",
              "      <th>PROVINCIA</th>\n",
              "      <th>MUNICIPIO</th>\n",
              "      <th>CANTIDAD</th>\n",
              "      <th>DATO_PRELIMINAR</th>\n",
              "      <th>FECHA_DIA</th>\n",
              "      <th>FECHA_MES</th>\n",
              "    </tr>\n",
              "  </thead>\n",
              "  <tbody>\n",
              "    <tr>\n",
              "      <th>363101</th>\n",
              "      <td>2022-10-31</td>\n",
              "      <td>MUNICIPALIDAD DE MERCEDES PROVINCIA DE BUENOS ...</td>\n",
              "      <td>1</td>\n",
              "      <td>SI</td>\n",
              "      <td>COLECTIVO</td>\n",
              "      <td>MUNICIPAL</td>\n",
              "      <td>BUENOS AIRES</td>\n",
              "      <td>MERCEDES</td>\n",
              "      <td>817</td>\n",
              "      <td>NO</td>\n",
              "      <td>Lunes</td>\n",
              "      <td>Octubre</td>\n",
              "    </tr>\n",
              "    <tr>\n",
              "      <th>363102</th>\n",
              "      <td>2022-10-31</td>\n",
              "      <td>MUNICIPALIDAD DE MERCEDES PROVINCIA DE BUENOS ...</td>\n",
              "      <td>2B</td>\n",
              "      <td>SI</td>\n",
              "      <td>COLECTIVO</td>\n",
              "      <td>MUNICIPAL</td>\n",
              "      <td>BUENOS AIRES</td>\n",
              "      <td>MERCEDES</td>\n",
              "      <td>279</td>\n",
              "      <td>NO</td>\n",
              "      <td>Lunes</td>\n",
              "      <td>Octubre</td>\n",
              "    </tr>\n",
              "    <tr>\n",
              "      <th>363103</th>\n",
              "      <td>2022-10-31</td>\n",
              "      <td>EMPRESA BATAN S.A.</td>\n",
              "      <td>BS_AS_LINEA 715M</td>\n",
              "      <td>NO</td>\n",
              "      <td>COLECTIVO</td>\n",
              "      <td>MUNICIPAL</td>\n",
              "      <td>BUENOS AIRES</td>\n",
              "      <td>GENERAL PUEYRREDON</td>\n",
              "      <td>7758</td>\n",
              "      <td>NO</td>\n",
              "      <td>Lunes</td>\n",
              "      <td>Octubre</td>\n",
              "    </tr>\n",
              "    <tr>\n",
              "      <th>363104</th>\n",
              "      <td>2022-10-31</td>\n",
              "      <td>COMPAÑIA  DE TRANSPORTE VECINAL S.A.</td>\n",
              "      <td>BS_AS_LINEA_326</td>\n",
              "      <td>SI</td>\n",
              "      <td>COLECTIVO</td>\n",
              "      <td>PROVINCIAL</td>\n",
              "      <td>BUENOS AIRES</td>\n",
              "      <td>SN</td>\n",
              "      <td>12016</td>\n",
              "      <td>NO</td>\n",
              "      <td>Lunes</td>\n",
              "      <td>Octubre</td>\n",
              "    </tr>\n",
              "    <tr>\n",
              "      <th>363105</th>\n",
              "      <td>2022-10-31</td>\n",
              "      <td>EMPRESA DE TRANSPORTE PERALTA RAMOS SACI</td>\n",
              "      <td>BS_AS_LINEA_512</td>\n",
              "      <td>NO</td>\n",
              "      <td>COLECTIVO</td>\n",
              "      <td>MUNICIPAL</td>\n",
              "      <td>BUENOS AIRES</td>\n",
              "      <td>GENERAL PUEYRREDON</td>\n",
              "      <td>5054</td>\n",
              "      <td>NO</td>\n",
              "      <td>Lunes</td>\n",
              "      <td>Octubre</td>\n",
              "    </tr>\n",
              "  </tbody>\n",
              "</table>\n",
              "</div>"
            ],
            "text/plain": [
              "       DIA_TRANSPORTE                                     NOMBRE_EMPRESA  \\\n",
              "363101     2022-10-31  MUNICIPALIDAD DE MERCEDES PROVINCIA DE BUENOS ...   \n",
              "363102     2022-10-31  MUNICIPALIDAD DE MERCEDES PROVINCIA DE BUENOS ...   \n",
              "363103     2022-10-31                                 EMPRESA BATAN S.A.   \n",
              "363104     2022-10-31               COMPAÑIA  DE TRANSPORTE VECINAL S.A.   \n",
              "363105     2022-10-31           EMPRESA DE TRANSPORTE PERALTA RAMOS SACI   \n",
              "\n",
              "                   LINEA AMBA TIPO_TRANSPORTE JURISDICCION     PROVINCIA  \\\n",
              "363101                 1   SI       COLECTIVO    MUNICIPAL  BUENOS AIRES   \n",
              "363102                2B   SI       COLECTIVO    MUNICIPAL  BUENOS AIRES   \n",
              "363103  BS_AS_LINEA 715M   NO       COLECTIVO    MUNICIPAL  BUENOS AIRES   \n",
              "363104   BS_AS_LINEA_326   SI       COLECTIVO   PROVINCIAL  BUENOS AIRES   \n",
              "363105   BS_AS_LINEA_512   NO       COLECTIVO    MUNICIPAL  BUENOS AIRES   \n",
              "\n",
              "                 MUNICIPIO  CANTIDAD DATO_PRELIMINAR FECHA_DIA FECHA_MES  \n",
              "363101            MERCEDES       817              NO     Lunes   Octubre  \n",
              "363102            MERCEDES       279              NO     Lunes   Octubre  \n",
              "363103  GENERAL PUEYRREDON      7758              NO     Lunes   Octubre  \n",
              "363104                  SN     12016              NO     Lunes   Octubre  \n",
              "363105  GENERAL PUEYRREDON      5054              NO     Lunes   Octubre  "
            ]
          },
          "execution_count": 16,
          "metadata": {},
          "output_type": "execute_result"
        }
      ],
      "source": [
        "Traduccion = {\n",
        "\"Monday\":\"Lunes\",\n",
        "\"Tuesday\":\"Martes\",\n",
        "\"Wednesday\":\"Miercoles\",\n",
        "\"Thursday\":\"Jueves\",\n",
        "\"Friday\":\"Viernes\",\n",
        "\"Saturday\":\"Sabado\",\n",
        "\"Sunday\":\"Domingo\",\n",
        "\"October\":\"Octubre\",\n",
        "\"November\":\"Noviembre\",\n",
        "\"December\":\"Diciembre\"\n",
        "}\n",
        "DFMundial[\"FECHA_DIA\"] = DFMundial[\"FECHA_DIA\"].apply(lambda x: Traduccion[x])\n",
        "DFMundial[\"FECHA_MES\"] = DFMundial[\"FECHA_MES\"].apply(lambda x: Traduccion[x])\n",
        "DFMundial.head()"
      ]
    },
    {
      "cell_type": "markdown",
      "metadata": {
        "id": "n6Dn9fPQLOoE"
      },
      "source": [
        "Vamos a agregar una columna que indique \"SI\" si en esa fecha hubo un partido de Argentina o \"NO\" si no lo hubo."
      ]
    },
    {
      "cell_type": "code",
      "execution_count": 17,
      "metadata": {
        "id": "d_l4o8QxilMa"
      },
      "outputs": [],
      "source": [
        "#Estas son las fechas donde la selección argentina jugó un partido en el mundial.\n",
        "Partidos = pd.to_datetime(['2022-11-22', '2022-11-26', '2022-11-30', '2022-12-03', '2022-12-09', '2022-12-13', '2022-12-18'])\n",
        "\n",
        "def HayPartido(fecha):\n",
        "  if fecha in Partidos:\n",
        "    return \"SI\"\n",
        "  else:\n",
        "    return \"NO\""
      ]
    },
    {
      "cell_type": "code",
      "execution_count": 18,
      "metadata": {
        "colab": {
          "base_uri": "https://localhost:8080/",
          "height": 434
        },
        "collapsed": true,
        "id": "VU8vTmdpkSKK",
        "outputId": "a8b3a30e-663a-4088-eb89-d1b0f1135c54"
      },
      "outputs": [
        {
          "data": {
            "text/html": [
              "<div>\n",
              "<style scoped>\n",
              "    .dataframe tbody tr th:only-of-type {\n",
              "        vertical-align: middle;\n",
              "    }\n",
              "\n",
              "    .dataframe tbody tr th {\n",
              "        vertical-align: top;\n",
              "    }\n",
              "\n",
              "    .dataframe thead th {\n",
              "        text-align: right;\n",
              "    }\n",
              "</style>\n",
              "<table border=\"1\" class=\"dataframe\">\n",
              "  <thead>\n",
              "    <tr style=\"text-align: right;\">\n",
              "      <th></th>\n",
              "      <th>index</th>\n",
              "      <th>DIA_TRANSPORTE</th>\n",
              "      <th>NOMBRE_EMPRESA</th>\n",
              "      <th>LINEA</th>\n",
              "      <th>AMBA</th>\n",
              "      <th>TIPO_TRANSPORTE</th>\n",
              "      <th>JURISDICCION</th>\n",
              "      <th>PROVINCIA</th>\n",
              "      <th>MUNICIPIO</th>\n",
              "      <th>CANTIDAD</th>\n",
              "      <th>DATO_PRELIMINAR</th>\n",
              "      <th>FECHA_DIA</th>\n",
              "      <th>FECHA_MES</th>\n",
              "      <th>PARTIDO</th>\n",
              "    </tr>\n",
              "  </thead>\n",
              "  <tbody>\n",
              "    <tr>\n",
              "      <th>0</th>\n",
              "      <td>363101</td>\n",
              "      <td>2022-10-31</td>\n",
              "      <td>MUNICIPALIDAD DE MERCEDES PROVINCIA DE BUENOS ...</td>\n",
              "      <td>1</td>\n",
              "      <td>SI</td>\n",
              "      <td>COLECTIVO</td>\n",
              "      <td>MUNICIPAL</td>\n",
              "      <td>BUENOS AIRES</td>\n",
              "      <td>MERCEDES</td>\n",
              "      <td>817</td>\n",
              "      <td>NO</td>\n",
              "      <td>Lunes</td>\n",
              "      <td>Octubre</td>\n",
              "      <td>NO</td>\n",
              "    </tr>\n",
              "    <tr>\n",
              "      <th>1</th>\n",
              "      <td>363102</td>\n",
              "      <td>2022-10-31</td>\n",
              "      <td>MUNICIPALIDAD DE MERCEDES PROVINCIA DE BUENOS ...</td>\n",
              "      <td>2B</td>\n",
              "      <td>SI</td>\n",
              "      <td>COLECTIVO</td>\n",
              "      <td>MUNICIPAL</td>\n",
              "      <td>BUENOS AIRES</td>\n",
              "      <td>MERCEDES</td>\n",
              "      <td>279</td>\n",
              "      <td>NO</td>\n",
              "      <td>Lunes</td>\n",
              "      <td>Octubre</td>\n",
              "      <td>NO</td>\n",
              "    </tr>\n",
              "    <tr>\n",
              "      <th>2</th>\n",
              "      <td>363103</td>\n",
              "      <td>2022-10-31</td>\n",
              "      <td>EMPRESA BATAN S.A.</td>\n",
              "      <td>BS_AS_LINEA 715M</td>\n",
              "      <td>NO</td>\n",
              "      <td>COLECTIVO</td>\n",
              "      <td>MUNICIPAL</td>\n",
              "      <td>BUENOS AIRES</td>\n",
              "      <td>GENERAL PUEYRREDON</td>\n",
              "      <td>7758</td>\n",
              "      <td>NO</td>\n",
              "      <td>Lunes</td>\n",
              "      <td>Octubre</td>\n",
              "      <td>NO</td>\n",
              "    </tr>\n",
              "    <tr>\n",
              "      <th>3</th>\n",
              "      <td>363104</td>\n",
              "      <td>2022-10-31</td>\n",
              "      <td>COMPAÑIA  DE TRANSPORTE VECINAL S.A.</td>\n",
              "      <td>BS_AS_LINEA_326</td>\n",
              "      <td>SI</td>\n",
              "      <td>COLECTIVO</td>\n",
              "      <td>PROVINCIAL</td>\n",
              "      <td>BUENOS AIRES</td>\n",
              "      <td>SN</td>\n",
              "      <td>12016</td>\n",
              "      <td>NO</td>\n",
              "      <td>Lunes</td>\n",
              "      <td>Octubre</td>\n",
              "      <td>NO</td>\n",
              "    </tr>\n",
              "    <tr>\n",
              "      <th>4</th>\n",
              "      <td>363105</td>\n",
              "      <td>2022-10-31</td>\n",
              "      <td>EMPRESA DE TRANSPORTE PERALTA RAMOS SACI</td>\n",
              "      <td>BS_AS_LINEA_512</td>\n",
              "      <td>NO</td>\n",
              "      <td>COLECTIVO</td>\n",
              "      <td>MUNICIPAL</td>\n",
              "      <td>BUENOS AIRES</td>\n",
              "      <td>GENERAL PUEYRREDON</td>\n",
              "      <td>5054</td>\n",
              "      <td>NO</td>\n",
              "      <td>Lunes</td>\n",
              "      <td>Octubre</td>\n",
              "      <td>NO</td>\n",
              "    </tr>\n",
              "  </tbody>\n",
              "</table>\n",
              "</div>"
            ],
            "text/plain": [
              "    index DIA_TRANSPORTE                                     NOMBRE_EMPRESA  \\\n",
              "0  363101     2022-10-31  MUNICIPALIDAD DE MERCEDES PROVINCIA DE BUENOS ...   \n",
              "1  363102     2022-10-31  MUNICIPALIDAD DE MERCEDES PROVINCIA DE BUENOS ...   \n",
              "2  363103     2022-10-31                                 EMPRESA BATAN S.A.   \n",
              "3  363104     2022-10-31               COMPAÑIA  DE TRANSPORTE VECINAL S.A.   \n",
              "4  363105     2022-10-31           EMPRESA DE TRANSPORTE PERALTA RAMOS SACI   \n",
              "\n",
              "              LINEA AMBA TIPO_TRANSPORTE JURISDICCION     PROVINCIA  \\\n",
              "0                 1   SI       COLECTIVO    MUNICIPAL  BUENOS AIRES   \n",
              "1                2B   SI       COLECTIVO    MUNICIPAL  BUENOS AIRES   \n",
              "2  BS_AS_LINEA 715M   NO       COLECTIVO    MUNICIPAL  BUENOS AIRES   \n",
              "3   BS_AS_LINEA_326   SI       COLECTIVO   PROVINCIAL  BUENOS AIRES   \n",
              "4   BS_AS_LINEA_512   NO       COLECTIVO    MUNICIPAL  BUENOS AIRES   \n",
              "\n",
              "            MUNICIPIO  CANTIDAD DATO_PRELIMINAR FECHA_DIA FECHA_MES PARTIDO  \n",
              "0            MERCEDES       817              NO     Lunes   Octubre      NO  \n",
              "1            MERCEDES       279              NO     Lunes   Octubre      NO  \n",
              "2  GENERAL PUEYRREDON      7758              NO     Lunes   Octubre      NO  \n",
              "3                  SN     12016              NO     Lunes   Octubre      NO  \n",
              "4  GENERAL PUEYRREDON      5054              NO     Lunes   Octubre      NO  "
            ]
          },
          "execution_count": 18,
          "metadata": {},
          "output_type": "execute_result"
        }
      ],
      "source": [
        "DFMundial = DFMundial.copy() #Hacemos la copia para que no salte una advertencia.\n",
        "DFMundial.loc[:,\"PARTIDO\"] = DFMundial[\"DIA_TRANSPORTE\"].apply(HayPartido) #Aplicamos la función al dataframe.\n",
        "DFMundial = DFMundial.reset_index() #Ordenamos el índice.\n",
        "DFMundial.head()"
      ]
    },
    {
      "cell_type": "markdown",
      "metadata": {
        "id": "q3LFVGuQLh2G"
      },
      "source": [
        "Ahora que tenemos bien ordenada toda la información que queremos, graficamos la cantidad de pasajeros registrados en el uso del transporte público cada fecha, marcando en color en las que hubo partido."
      ]
    },
    {
      "cell_type": "code",
      "execution_count": 19,
      "metadata": {
        "colab": {
          "base_uri": "https://localhost:8080/",
          "height": 309
        },
        "id": "5cNo5JASdKIc",
        "outputId": "5cce7c2b-fedf-464c-b42d-81d95796bae4"
      },
      "outputs": [
        {
          "data": {
            "image/png": "[encoded data removed]",
            "text/plain": [
              "<Figure size 1500x400 with 1 Axes>"
            ]
          },
          "metadata": {},
          "output_type": "display_data"
        }
      ],
      "source": [
        "P = (\n",
        "    so.Plot(data = DFMundial, x = \"DIA_TRANSPORTE\", y = \"CANTIDAD\", color = \"PARTIDO\", alpha=\"FECHA_DIA\")\n",
        "    .add(so.Bar(), so.Agg(\"sum\"))\n",
        "    .label(x = \"Fecha\", y = \"Cantidad de pasajeros (en 10 millones)\", title = \"Cantidad de pasajeros por fecha\")\n",
        "    .layout(size=(15,4), extent = [0, 0, .85, 1])\n",
        ")\n",
        "P.show()"
      ]
    },
    {
      "cell_type": "markdown",
      "metadata": {
        "id": "7TppHh0WLyky"
      },
      "source": [
        "De primeras se nota que la fecha con menos movimiento del total es la del último partido, o sea, la final contra Francia. Tambien se ve menos movimiento de lo usual al final de la tabla, en la última semana de Diciembre, causado posiblemente por las fiestas de fin de año.\n",
        "Para un análisis que pueda darnos más información vamos graficar cada día de la semana por separado."
      ]
    },
    {
      "cell_type": "code",
      "execution_count": 20,
      "metadata": {
        "colab": {
          "base_uri": "https://localhost:8080/",
          "height": 1000
        },
        "id": "8LWKCP7oDnBH",
        "outputId": "1a8fdbef-a677-4027-c885-828a93a94fc9"
      },
      "outputs": [
        {
          "name": "stdout",
          "output_type": "stream",
          "text": [
            "Lunes\n"
          ]
        },
        {
          "data": {
            "image/png": "[encoded data removed]",
            "text/plain": [
              "<Figure size 700x200 with 1 Axes>"
            ]
          },
          "metadata": {},
          "output_type": "display_data"
        },
        {
          "name": "stdout",
          "output_type": "stream",
          "text": [
            "Martes\n"
          ]
        },
        {
          "data": {
            "image/png": "[encoded data removed]",
            "text/plain": [
              "<Figure size 700x200 with 1 Axes>"
            ]
          },
          "metadata": {},
          "output_type": "display_data"
        },
        {
          "name": "stdout",
          "output_type": "stream",
          "text": [
            "Miercoles\n"
          ]
        },
        {
          "data": {
            "image/png": "[encoded data removed]",
            "text/plain": [
              "<Figure size 700x200 with 1 Axes>"
            ]
          },
          "metadata": {},
          "output_type": "display_data"
        },
        {
          "name": "stdout",
          "output_type": "stream",
          "text": [
            "Jueves\n"
          ]
        },
        {
          "data": {
            "image/png": "[encoded data removed]",
            "text/plain": [
              "<Figure size 700x200 with 1 Axes>"
            ]
          },
          "metadata": {},
          "output_type": "display_data"
        },
        {
          "name": "stdout",
          "output_type": "stream",
          "text": [
            "Viernes\n"
          ]
        },
        {
          "data": {
            "image/png": "[encoded data removed]",
            "text/plain": [
              "<Figure size 700x200 with 1 Axes>"
            ]
          },
          "metadata": {},
          "output_type": "display_data"
        },
        {
          "name": "stdout",
          "output_type": "stream",
          "text": [
            "Sabado\n"
          ]
        },
        {
          "data": {
            "image/png": "[encoded data removed]",
            "text/plain": [
              "<Figure size 700x200 with 1 Axes>"
            ]
          },
          "metadata": {},
          "output_type": "display_data"
        },
        {
          "name": "stdout",
          "output_type": "stream",
          "text": [
            "Domingo\n"
          ]
        },
        {
          "data": {
            "image/png": "[encoded data removed]",
            "text/plain": [
              "<Figure size 700x200 with 1 Axes>"
            ]
          },
          "metadata": {},
          "output_type": "display_data"
        }
      ],
      "source": [
        "maximo = DFMundial.groupby(\"DIA_TRANSPORTE\").sum()['CANTIDAD'].max()\n",
        "\n",
        "for dia in list(DFMundial[\"FECHA_DIA\"].unique()):\n",
        "  Data = DFMundial[DFMundial[\"FECHA_DIA\"] == dia]\n",
        "  print(dia)\n",
        "  P = (\n",
        "    so.Plot(data = Data, x = \"DIA_TRANSPORTE\", y = \"CANTIDAD\", color = \"PARTIDO\")\n",
        "    .add(so.Bar(), so.Agg(\"sum\"))\n",
        "    .limit(y=(None,maximo*1.05))\n",
        "    .label(x = \"Fecha\", y = \"#pasajeros\", title = f\"Cantidad de pasajeros dias {dia}\")\n",
        "    .layout(size = (7,2),extent = [0, 0, .85, 1.2])\n",
        "  )\n",
        "  P.show()"
      ]
    },
    {
      "cell_type": "markdown",
      "metadata": {
        "id": "0PbH650bMJLD"
      },
      "source": [
        "Vemos que, en general, los días de partido tuvieron menos movimiento que los demás. Llaman la atención también algunas otras fechas: hay un lunes y un jueves con valores muy bajos, y un martes y dos sábados con incluso menos movimiento que las fechas de partido. Vamos a graficar esos días por separado y buscar a qué fecha corresponde cada uno, pero antes queremos ver en cuánto cayó el uso del transporte a causa de los partidos."
      ]
    },
    {
      "cell_type": "code",
      "execution_count": 21,
      "metadata": {
        "colab": {
          "base_uri": "https://localhost:8080/",
          "height": 138
        },
        "id": "_nOr1IlPER0S",
        "outputId": "ca6bb3f1-3cc0-4b5e-93e6-aea69bc0ddbc"
      },
      "outputs": [
        {
          "data": {
            "text/plain": [
              "FECHA_DIA\n",
              "Domingo       4049384\n",
              "Martes       13097828\n",
              "Miercoles    14480049\n",
              "Sabado        8265255\n",
              "Viernes      13458287\n",
              "Name: CANTIDAD, dtype: object"
            ]
          },
          "metadata": {},
          "output_type": "display_data"
        }
      ],
      "source": [
        "#Sacamos los lunes y los jueves ya que ningún partido ocurrió en esos días.\n",
        "SumaCantidad = DFMundial[~DFMundial[\"FECHA_DIA\"].isin([\"Lunes\", \"Jueves\"])].groupby([\"DIA_TRANSPORTE\", \"FECHA_DIA\"])[\"CANTIDAD\"].sum()\n",
        "#Calculamos el promedio de la cantidad de gente en el transporte para cada día de la semana que nos interesa.\n",
        "PromedioCantidad = SumaCantidad.groupby(\"FECHA_DIA\").mean()\n",
        "display(PromedioCantidad.apply(lambda x: '{:.0f}'.format(x)))"
      ]
    },
    {
      "cell_type": "code",
      "execution_count": 22,
      "metadata": {
        "colab": {
          "base_uri": "https://localhost:8080/",
          "height": 138
        },
        "id": "IVxV4nm5BCH3",
        "outputId": "19ddd5da-ee05-4077-d34e-1c918b1f0c98"
      },
      "outputs": [
        {
          "data": {
            "text/plain": [
              "FECHA_DIA\n",
              "Domingo       1622866\n",
              "Martes       12881264\n",
              "Miercoles    12474256\n",
              "Sabado        8130442\n",
              "Viernes       5033581\n",
              "Name: CANTIDAD, dtype: object"
            ]
          },
          "metadata": {},
          "output_type": "display_data"
        }
      ],
      "source": [
        "SumaPartido = DFMundial.query('PARTIDO == \"SI\"').groupby([\"DIA_TRANSPORTE\", \"FECHA_DIA\"])[\"CANTIDAD\"].sum()\n",
        "PromedioPartido = SumaPartido.groupby(\"FECHA_DIA\").mean()\n",
        "display(PromedioPartido.apply(lambda x: '{:.0f}'.format(x))) #Este es el promedio del uso del transporte los días que hubo partido."
      ]
    },
    {
      "cell_type": "code",
      "execution_count": 23,
      "metadata": {
        "colab": {
          "base_uri": "https://localhost:8080/"
        },
        "id": "SQOuxPYnLkp4",
        "outputId": "4f9080c5-b76f-4b52-ae4b-e4b3e0f945c9"
      },
      "outputs": [
        {
          "name": "stdout",
          "output_type": "stream",
          "text": [
            "Los Domingos con partido, el uso del transporte cayó en un 59.92%\n",
            "Los Martes con partido, el uso del transporte cayó en un 1.65%\n",
            "Los Miercoles con partido, el uso del transporte cayó en un 13.85%\n",
            "Los Sabados con partido, el uso del transporte cayó en un 1.63%\n",
            "Los Viernes con partido, el uso del transporte cayó en un 62.60%\n"
          ]
        },
        {
          "name": "stderr",
          "output_type": "stream",
          "text": [
            "C:\\Users\\bauti\\AppData\\Local\\Temp\\ipykernel_12608\\3661696745.py:4: FutureWarning: Series.__getitem__ treating keys as positions is deprecated. In a future version, integer keys will always be treated as labels (consistent with DataFrame behavior). To access a value by position, use `ser.iloc[pos]`\n",
            "  promedio = (100-((PromedioPartido[i]*100)/PromedioCantidad[i]))\n"
          ]
        }
      ],
      "source": [
        "Dias = [\"Domingos\", \"Martes\", \"Miercoles\", \"Sabados\", \"Viernes\"]\n",
        "for i in range(len(PromedioCantidad)):\n",
        "  #Con esta fórmula calculamos el porcentaje (en promedio) de caída en el uso del transporte cuando hubo un partido.\n",
        "  promedio = (100-((PromedioPartido[i]*100)/PromedioCantidad[i]))\n",
        "  print(f\"Los {Dias[i]} con partido, el uso del transporte cayó en un {promedio :.2f}%\")"
      ]
    },
    {
      "cell_type": "markdown",
      "metadata": {
        "id": "JeP3cPd4O2x1"
      },
      "source": [
        "Vemos una caida muy alta para todos los días excepto los martes y los sábados. Creemos que esto se debe a esas fechas con mucho menos movimiento de lo usual, las cuales podrían considerarse outliers. Ahora sí revisamos qué pasó esos días."
      ]
    },
    {
      "cell_type": "code",
      "execution_count": 24,
      "metadata": {
        "colab": {
          "base_uri": "https://localhost:8080/",
          "height": 401
        },
        "id": "Sv-kB-Dr-OzE",
        "outputId": "5d8345ae-c91c-496f-8b9e-ae520eab4bf2"
      },
      "outputs": [
        {
          "data": {
            "image/png": "[encoded data removed]",
            "text/plain": [
              "<Figure size 500x400 with 1 Axes>"
            ]
          },
          "metadata": {},
          "output_type": "display_data"
        }
      ],
      "source": [
        "DFLunes = DFMundial[DFMundial[\"FECHA_DIA\"] == \"Lunes\"]\n",
        "\n",
        "P = (\n",
        "    so.Plot(data = DFLunes, x = \"DIA_TRANSPORTE\", y = \"CANTIDAD\")\n",
        "    .add(so.Bar(), so.Agg(\"sum\"))\n",
        "    .label(x = \"Fecha\", y = \"Cantidad de pasajeros (en 10 millones)\", title = \"Lunes\")\n",
        "    .layout(size=(5,4))\n",
        ")\n",
        "P.show()"
      ]
    },
    {
      "cell_type": "code",
      "execution_count": 25,
      "metadata": {
        "colab": {
          "base_uri": "https://localhost:8080/"
        },
        "id": "d4kDv1mw-LL4",
        "outputId": "ba91b602-8ec2-4596-e6f1-7afb8b371614"
      },
      "outputs": [
        {
          "name": "stdout",
          "output_type": "stream",
          "text": [
            "Cuarto Lunes: 21-11-2022\n"
          ]
        }
      ],
      "source": [
        "#Con esto podemos ver la fecha correspondiente a el día que nos interesa.\n",
        "print(\"Cuarto Lunes:\", DFLunes[\"DIA_TRANSPORTE\"].unique()[3].strftime(\"%d-%m-%Y\"))"
      ]
    },
    {
      "cell_type": "markdown",
      "metadata": {
        "id": "Krkm3c_GNVl2"
      },
      "source": [
        "Lunes 21 de Noviembre del 2022 fue feriado por el Día de la Soberanía Nacional, y también feriado con fines turísticos. Eso explica el valor atípico que vemos."
      ]
    },
    {
      "cell_type": "code",
      "execution_count": 26,
      "metadata": {
        "colab": {
          "base_uri": "https://localhost:8080/",
          "height": 401
        },
        "id": "1HYW_AXF9CUB",
        "outputId": "98c1824b-e97c-4ea7-8340-fcfdd49337f9"
      },
      "outputs": [
        {
          "data": {
            "image/png": "[encoded data removed]",
            "text/plain": [
              "<Figure size 500x400 with 1 Axes>"
            ]
          },
          "metadata": {},
          "output_type": "display_data"
        }
      ],
      "source": [
        "DFMartes = DFMundial[DFMundial[\"FECHA_DIA\"] == \"Martes\"]\n",
        "\n",
        "P = (\n",
        "    so.Plot(data = DFMartes, x = \"DIA_TRANSPORTE\", y = \"CANTIDAD\", color = \"PARTIDO\")\n",
        "    .add(so.Bar(), so.Agg(\"sum\"))\n",
        "    .label(x = \"Fecha\", y = \"Cantidad de pasajeros (en 10 millones)\", title = \"Martes\")\n",
        "    .layout(size=(5,4))\n",
        ")\n",
        "P.show()"
      ]
    },
    {
      "cell_type": "code",
      "execution_count": 27,
      "metadata": {
        "colab": {
          "base_uri": "https://localhost:8080/"
        },
        "id": "CYTWc7arEagu",
        "outputId": "8483a589-51ac-4637-836a-221fcf4210fb"
      },
      "outputs": [
        {
          "name": "stdout",
          "output_type": "stream",
          "text": [
            "Octavo Martes: 20-12-2022\n"
          ]
        }
      ],
      "source": [
        "print('Octavo Martes:', DFMartes[\"DIA_TRANSPORTE\"].unique()[7].strftime(\"%d-%m-%Y\"))"
      ]
    },
    {
      "cell_type": "markdown",
      "metadata": {
        "id": "tUCBEDD9Nvkz"
      },
      "source": [
        "Martes 20 de Diciembre del 2022 fue el día que la selección argentina volvió al país luego de ganar el mundial, decretado feriado nacional."
      ]
    },
    {
      "cell_type": "code",
      "execution_count": 28,
      "metadata": {
        "colab": {
          "base_uri": "https://localhost:8080/",
          "height": 401
        },
        "collapsed": true,
        "id": "feotr1GM-F7t",
        "outputId": "4aff8a4c-497c-43fb-e2ae-74da890278a8"
      },
      "outputs": [
        {
          "data": {
            "image/png": "[encoded data removed]",
            "text/plain": [
              "<Figure size 500x400 with 1 Axes>"
            ]
          },
          "metadata": {},
          "output_type": "display_data"
        }
      ],
      "source": [
        "DFJueves = DFMundial[DFMundial[\"FECHA_DIA\"] == \"Jueves\"]\n",
        "\n",
        "P = (\n",
        "    so.Plot(data = DFJueves, x = \"DIA_TRANSPORTE\", y = \"CANTIDAD\")\n",
        "    .add(so.Bar(), so.Agg(\"sum\"))\n",
        "    .label(x = \"Fecha\", y = \"Cantidad de pasajeros (en 10 millones)\", title = \"Jueves\")\n",
        "    .layout(size=(5,4))\n",
        ")\n",
        "P.show()"
      ]
    },
    {
      "cell_type": "code",
      "execution_count": 29,
      "metadata": {
        "colab": {
          "base_uri": "https://localhost:8080/"
        },
        "id": "W2z5HRETEx-a",
        "outputId": "9d7309d9-cf31-4a60-c7c3-875835856166"
      },
      "outputs": [
        {
          "name": "stdout",
          "output_type": "stream",
          "text": [
            "Sexto Jueves: 08-12-2022\n"
          ]
        }
      ],
      "source": [
        "print('Sexto Jueves:', DFJueves[\"DIA_TRANSPORTE\"].unique()[5].strftime(\"%d-%m-%Y\"))"
      ]
    },
    {
      "cell_type": "markdown",
      "metadata": {
        "id": "Ern6YYDZOHxO"
      },
      "source": [
        "Jueves 8 de Diciembre del 2022 fue feriado por el día de la Inmaculada Concepción de la Santísima Virgen María."
      ]
    },
    {
      "cell_type": "markdown",
      "metadata": {
        "id": "o0hkxHQePCx8"
      },
      "source": [
        "Entonces podemos concluir\n",
        "- Primero: El mundial provocó una disminución en el movimiento de la gente los días que hubo partido (y generó el día de menor movimiento del período analizado).\n",
        "- Segundo: Francia.\n",
        "- Tercero: Hay varios días que se podrían considerar outliers: un feriado (Lunes 21 de Noviembre), las fiestas, y el 20 de Diciembre que se decretó feriado nacional por el festejo del título obtenido en Qatar."
      ]
    },
    {
      "cell_type": "markdown",
      "metadata": {
        "id": "4QgzZUS9Zgtt"
      },
      "source": [
        "#### **Analisis Elecciones 2023 - Caso Jujuy**"
      ]
    },
    {
      "cell_type": "markdown",
      "metadata": {
        "id": "833nps3vwc4s"
      },
      "source": [
        "En primer lugar volvemos a cargar los datos de 2023 y los preparamos para poder usarlos:\n",
        "cambiamos el tipo de dato de las fechas a Datetime y agregamos el día de la semana.\n"
      ]
    },
    {
      "cell_type": "code",
      "execution_count": 30,
      "metadata": {
        "id": "U_BhIrEFCm8V"
      },
      "outputs": [],
      "source": [
        "datos2023 = pd.read_csv(\"sube-2023.csv\") # DataFrame\n",
        "datos2023[\"DIA_TRANSPORTE\"] = pd.to_datetime(datos2023[\"DIA_TRANSPORTE\"])\n",
        "datos2023[\"SEMANA\"] = datos2023[\"DIA_TRANSPORTE\"].dt.day_name()"
      ]
    },
    {
      "cell_type": "markdown",
      "metadata": {
        "id": "jHNN4eaywRyu"
      },
      "source": [
        "Nos fijamos qué días tuvieron menos movimiento.\n"
      ]
    },
    {
      "cell_type": "code",
      "execution_count": 31,
      "metadata": {
        "colab": {
          "base_uri": "https://localhost:8080/",
          "height": 237
        },
        "id": "tIKB9csswY90",
        "outputId": "0cc89fe3-21b7-42ac-bc0d-6be466524e04"
      },
      "outputs": [
        {
          "data": {
            "text/html": [
              "<div>\n",
              "<style scoped>\n",
              "    .dataframe tbody tr th:only-of-type {\n",
              "        vertical-align: middle;\n",
              "    }\n",
              "\n",
              "    .dataframe tbody tr th {\n",
              "        vertical-align: top;\n",
              "    }\n",
              "\n",
              "    .dataframe thead th {\n",
              "        text-align: right;\n",
              "    }\n",
              "</style>\n",
              "<table border=\"1\" class=\"dataframe\">\n",
              "  <thead>\n",
              "    <tr style=\"text-align: right;\">\n",
              "      <th></th>\n",
              "      <th>CANTIDAD</th>\n",
              "    </tr>\n",
              "    <tr>\n",
              "      <th>DIA_TRANSPORTE</th>\n",
              "      <th></th>\n",
              "    </tr>\n",
              "  </thead>\n",
              "  <tbody>\n",
              "    <tr>\n",
              "      <th>2023-10-22</th>\n",
              "      <td>655564</td>\n",
              "    </tr>\n",
              "    <tr>\n",
              "      <th>2023-11-19</th>\n",
              "      <td>684308</td>\n",
              "    </tr>\n",
              "    <tr>\n",
              "      <th>2023-08-13</th>\n",
              "      <td>909517</td>\n",
              "    </tr>\n",
              "    <tr>\n",
              "      <th>2023-01-01</th>\n",
              "      <td>1766654</td>\n",
              "    </tr>\n",
              "    <tr>\n",
              "      <th>2023-12-25</th>\n",
              "      <td>2458796</td>\n",
              "    </tr>\n",
              "  </tbody>\n",
              "</table>\n",
              "</div>"
            ],
            "text/plain": [
              "                CANTIDAD\n",
              "DIA_TRANSPORTE          \n",
              "2023-10-22        655564\n",
              "2023-11-19        684308\n",
              "2023-08-13        909517\n",
              "2023-01-01       1766654\n",
              "2023-12-25       2458796"
            ]
          },
          "execution_count": 31,
          "metadata": {},
          "output_type": "execute_result"
        }
      ],
      "source": [
        "DatosAgrupados = datos2023[[\"DIA_TRANSPORTE\", \"CANTIDAD\"]].groupby(\"DIA_TRANSPORTE\").sum()\n",
        "DatosAgrupados.sort_values(by=\"CANTIDAD\", ascending = True).head(5)"
      ]
    },
    {
      "cell_type": "markdown",
      "metadata": {
        "id": "hcnsktkhxi_1"
      },
      "source": [
        "Podemos ver que entre los primeros 3 y los 2 restantes hay una considerable diferencia\n",
        "\n",
        " Que el primero de enero y el 25 de diciembre hayan tenido poco movimiento es esperable, pero ¿Qué ocurrió los otros tres días?"
      ]
    },
    {
      "cell_type": "markdown",
      "metadata": {
        "id": "0qG0phXgx0Vn"
      },
      "source": [
        "Estos fueron los días donde hubo elecciones. 13/08 las PASO, 22/10 las generales y 19/11 el ballotage."
      ]
    },
    {
      "cell_type": "markdown",
      "metadata": {
        "id": "VQuiUBeByCsn"
      },
      "source": [
        "Nos centramos en estas tres fechas en particular. El transporte público fue gratiuito durante la mayor parte de esos días, lo que explica que haya tan pocos registros.\n"
      ]
    },
    {
      "cell_type": "markdown",
      "metadata": {
        "id": "1S-xLBQ0yb_P"
      },
      "source": [
        "Según la [página oficial del gobierno](https://www.argentina.gob.ar/noticias/el-transporte-sera-gratuito-en-todo-el-pais-el-proximo-domingo-para-ir-votar\n",
        "), hubo transporte gratis en la mayoría del país, excepto en algunos lugares. En particular, se especificó en el artículo que Jujuy no se adhirió, por lo que esperamos tener algún comportamiento extraño en esa provincia.\n"
      ]
    },
    {
      "cell_type": "markdown",
      "metadata": {
        "id": "4OdTbdHOzfHJ"
      },
      "source": [
        "Escribimos los días de elecciones en una lista y armamos una columna en el Dataframe que nos los distinga.\n"
      ]
    },
    {
      "cell_type": "code",
      "execution_count": 32,
      "metadata": {
        "id": "TC_0KHZXzIUo"
      },
      "outputs": [],
      "source": [
        "diasElecciones = pd.to_datetime(['10-22-2023','11-19-2023','08-13-2023'])\n",
        "def elecciones(dia):\n",
        "  if dia in diasElecciones:\n",
        "    return \"SI\"\n",
        "  else:\n",
        "    return \"NO\"\n",
        "datos2023[\"DiasElecciones\"] = datos2023[\"DIA_TRANSPORTE\"].apply(elecciones)"
      ]
    },
    {
      "cell_type": "markdown",
      "metadata": {
        "id": "VVVqa0VM0GwL"
      },
      "source": [
        "Agrupamos la cantidad de movimiento por provincia para los días en donde hubo elecciones.\n"
      ]
    },
    {
      "cell_type": "code",
      "execution_count": 33,
      "metadata": {
        "id": "F2PZIy4O0Gal"
      },
      "outputs": [],
      "source": [
        "EleccionesProvincias = datos2023[[\"DIA_TRANSPORTE\", \"CANTIDAD\",\"PROVINCIA\",\"DiasElecciones\"]].groupby([\"DIA_TRANSPORTE\",\"PROVINCIA\",\"DiasElecciones\"]).sum()\n",
        "EleccionesProvincias = EleccionesProvincias.query(\"DiasElecciones == 'SI'\" )"
      ]
    },
    {
      "cell_type": "code",
      "execution_count": 34,
      "metadata": {
        "colab": {
          "base_uri": "https://localhost:8080/",
          "height": 455
        },
        "id": "-m_s-j8x1jQM",
        "outputId": "97fe7377-f05f-4dd8-bba1-72b82568cec1"
      },
      "outputs": [
        {
          "data": {
            "text/html": [
              "<div>\n",
              "<style scoped>\n",
              "    .dataframe tbody tr th:only-of-type {\n",
              "        vertical-align: middle;\n",
              "    }\n",
              "\n",
              "    .dataframe tbody tr th {\n",
              "        vertical-align: top;\n",
              "    }\n",
              "\n",
              "    .dataframe thead th {\n",
              "        text-align: right;\n",
              "    }\n",
              "</style>\n",
              "<table border=\"1\" class=\"dataframe\">\n",
              "  <thead>\n",
              "    <tr style=\"text-align: right;\">\n",
              "      <th>DIA_TRANSPORTE</th>\n",
              "      <th>2023-08-13</th>\n",
              "      <th>2023-10-22</th>\n",
              "      <th>2023-11-19</th>\n",
              "    </tr>\n",
              "    <tr>\n",
              "      <th>PROVINCIA</th>\n",
              "      <th></th>\n",
              "      <th></th>\n",
              "      <th></th>\n",
              "    </tr>\n",
              "  </thead>\n",
              "  <tbody>\n",
              "    <tr>\n",
              "      <th>JN</th>\n",
              "      <td>372633.0</td>\n",
              "      <td>244387.0</td>\n",
              "      <td>262429.0</td>\n",
              "    </tr>\n",
              "    <tr>\n",
              "      <th>MENDOZA</th>\n",
              "      <td>179146.0</td>\n",
              "      <td>155951.0</td>\n",
              "      <td>134066.0</td>\n",
              "    </tr>\n",
              "    <tr>\n",
              "      <th>JUJUY</th>\n",
              "      <td>97178.0</td>\n",
              "      <td>100714.0</td>\n",
              "      <td>109245.0</td>\n",
              "    </tr>\n",
              "    <tr>\n",
              "      <th>BUENOS AIRES</th>\n",
              "      <td>147480.0</td>\n",
              "      <td>96223.0</td>\n",
              "      <td>106259.0</td>\n",
              "    </tr>\n",
              "    <tr>\n",
              "      <th>SANTA FE</th>\n",
              "      <td>27344.0</td>\n",
              "      <td>18353.0</td>\n",
              "      <td>24873.0</td>\n",
              "    </tr>\n",
              "    <tr>\n",
              "      <th>...</th>\n",
              "      <td>...</td>\n",
              "      <td>...</td>\n",
              "      <td>...</td>\n",
              "    </tr>\n",
              "    <tr>\n",
              "      <th>NEUQUÉN</th>\n",
              "      <td>476.0</td>\n",
              "      <td>309.0</td>\n",
              "      <td>634.0</td>\n",
              "    </tr>\n",
              "    <tr>\n",
              "      <th>CATAMARCA</th>\n",
              "      <td>645.0</td>\n",
              "      <td>96.0</td>\n",
              "      <td>4829.0</td>\n",
              "    </tr>\n",
              "    <tr>\n",
              "      <th>SAN LUIS</th>\n",
              "      <td>66.0</td>\n",
              "      <td>59.0</td>\n",
              "      <td>32.0</td>\n",
              "    </tr>\n",
              "    <tr>\n",
              "      <th>CORDOBA</th>\n",
              "      <td>16.0</td>\n",
              "      <td>31.0</td>\n",
              "      <td>28.0</td>\n",
              "    </tr>\n",
              "    <tr>\n",
              "      <th>LA PAMPA</th>\n",
              "      <td>25.0</td>\n",
              "      <td>20.0</td>\n",
              "      <td>32.0</td>\n",
              "    </tr>\n",
              "  </tbody>\n",
              "</table>\n",
              "<p>19 rows × 3 columns</p>\n",
              "</div>"
            ],
            "text/plain": [
              "DIA_TRANSPORTE  2023-08-13  2023-10-22  2023-11-19\n",
              "PROVINCIA                                         \n",
              "JN                372633.0    244387.0    262429.0\n",
              "MENDOZA           179146.0    155951.0    134066.0\n",
              "JUJUY              97178.0    100714.0    109245.0\n",
              "BUENOS AIRES      147480.0     96223.0    106259.0\n",
              "SANTA FE           27344.0     18353.0     24873.0\n",
              "...                    ...         ...         ...\n",
              "NEUQUÉN              476.0       309.0       634.0\n",
              "CATAMARCA            645.0        96.0      4829.0\n",
              "SAN LUIS              66.0        59.0        32.0\n",
              "CORDOBA               16.0        31.0        28.0\n",
              "LA PAMPA              25.0        20.0        32.0\n",
              "\n",
              "[19 rows x 3 columns]"
            ]
          },
          "metadata": {},
          "output_type": "display_data"
        }
      ],
      "source": [
        "#Reacomodamos la tabla para que nos muestre las fechas con sus cantidas por columna\n",
        "EleccionesProvincias = EleccionesProvincias.reset_index().pivot_table(\n",
        "    index = \"PROVINCIA\",\n",
        "    columns = \"DIA_TRANSPORTE\",\n",
        "    values = \"CANTIDAD\",\n",
        ")\n",
        "EleccionesProvincias = EleccionesProvincias.sort_values(by=\"2023-10-22\", ascending=False)\n",
        "display(EleccionesProvincias)"
      ]
    },
    {
      "cell_type": "markdown",
      "metadata": {
        "id": "aMjqJr421jek"
      },
      "source": [
        "Obtenemos que Mendoza resulta tener incluso más registros que Jujuy. Investigando el porqué vimos que en Mendoza el boleto fue gratuito pero, por el sistema que decidieron implementar, los viajes quedaron registrados igualmente.\n",
        "\n",
        "Igualmente, tomaremos a Jujuy como caso de estudio. Vemos que registra muchísimo más que las demás provincias durante las elecciones. Esto podría deberse también a que los domingos, por algún motivo, Jujuy registre mucho más movimiento que las demás provincias, sin importar si hay elecciones o no. Para ver esto vamos a comparar los domingos de Jujuy con los de otra provincias. Tomamos Buenos Aires como representativo, ya que tiene mucho movimiento.\n"
      ]
    },
    {
      "cell_type": "markdown",
      "metadata": {
        "id": "N7aGhj7WLrsT"
      },
      "source": [
        "Armamos un Dataframe con los movimientos de los domingos para analizar.\n"
      ]
    },
    {
      "cell_type": "code",
      "execution_count": 35,
      "metadata": {
        "id": "w3RJaivHLQhp"
      },
      "outputs": [],
      "source": [
        "Domingos = datos2023.query(\"SEMANA == 'Sunday'\")"
      ]
    },
    {
      "cell_type": "code",
      "execution_count": 36,
      "metadata": {
        "id": "yL8isOvqM094"
      },
      "outputs": [],
      "source": [
        "DomingosPorDia = Domingos[[\"DIA_TRANSPORTE\", \"CANTIDAD\",\"DiasElecciones\"]].groupby([\"DIA_TRANSPORTE\",\"DiasElecciones\"]).sum()\n",
        "DomingosPorProvincia = Domingos[[\"DIA_TRANSPORTE\", \"CANTIDAD\",\"PROVINCIA\",\"DiasElecciones\"]].groupby([\"DIA_TRANSPORTE\",\"PROVINCIA\",\"DiasElecciones\"]).sum()"
      ]
    },
    {
      "cell_type": "code",
      "execution_count": 37,
      "metadata": {
        "id": "DIn05GhyOV6_"
      },
      "outputs": [],
      "source": [
        "DomingosJujuy = DomingosPorProvincia.query(\"PROVINCIA == 'JUJUY'\") #Movimiento los domingos en Jujuy\n",
        "DomingosBSAS = DomingosPorProvincia.query(\"PROVINCIA == 'BUENOS AIRES'\") #Movimiento los domingos en Buenos Aires\n",
        "\n",
        "EleccionesJujuy = EleccionesProvincias.query(\"PROVINCIA == 'JUJUY'\") #Movimiento los días de elecciones en Jujuy\n",
        "EleccionesBSAS = EleccionesProvincias.query(\"PROVINCIA == 'BUENOS AIRES'\") #Movimiento los días de elecciones en Buenos Aires"
      ]
    },
    {
      "cell_type": "code",
      "execution_count": 38,
      "metadata": {
        "id": "1-3m7r8bOG96"
      },
      "outputs": [],
      "source": [
        "CantidadFechas = DomingosPorDia.shape[0] #Contamos la cantidad de domingos para hacer estadíastica\n",
        "\n",
        "TotalDomingos = DomingosPorDia[\"CANTIDAD\"].sum()  #Cantidad total de viajes los domingos\n",
        "TotalElecciones = EleccionesProvincias.sum(axis=1).sum() #Cantidad total de viajes los días de elecciones\n",
        "\n",
        "TotalDomingosJujuy = DomingosJujuy[\"CANTIDAD\"].sum() #Cantidad total de viajes los domingos en Jujuy\n",
        "TotalDomingosBSAS = DomingosBSAS[\"CANTIDAD\"].sum() #Cantidad total de viajes los domingos en Buenos Aires\n",
        "\n",
        "TotalEleccionesJujuy = EleccionesJujuy.sum(axis=1).values[0] #Cantidad total de viajes los días de elecciones en Jujuy\n",
        "TotalEleccionesBSAS = EleccionesBSAS.sum(axis=1).values[0] #Cantidad total de viajes los días de elecciones en Buenos Aires"
      ]
    },
    {
      "cell_type": "code",
      "execution_count": 39,
      "metadata": {
        "colab": {
          "base_uri": "https://localhost:8080/",
          "height": 143
        },
        "id": "yobsgj7eLzog",
        "outputId": "103052dd-df58-4ac1-f610-ca14bb58508c"
      },
      "outputs": [
        {
          "data": {
            "text/html": [
              "<div>\n",
              "<style scoped>\n",
              "    .dataframe tbody tr th:only-of-type {\n",
              "        vertical-align: middle;\n",
              "    }\n",
              "\n",
              "    .dataframe tbody tr th {\n",
              "        vertical-align: top;\n",
              "    }\n",
              "\n",
              "    .dataframe thead th {\n",
              "        text-align: right;\n",
              "    }\n",
              "</style>\n",
              "<table border=\"1\" class=\"dataframe\">\n",
              "  <thead>\n",
              "    <tr style=\"text-align: right;\">\n",
              "      <th></th>\n",
              "      <th>Domingos</th>\n",
              "      <th>Elecciones</th>\n",
              "    </tr>\n",
              "  </thead>\n",
              "  <tbody>\n",
              "    <tr>\n",
              "      <th>Total</th>\n",
              "      <td>244246454</td>\n",
              "      <td>2245296.0</td>\n",
              "    </tr>\n",
              "    <tr>\n",
              "      <th>Jujuy</th>\n",
              "      <td>4204792</td>\n",
              "      <td>307137.0</td>\n",
              "    </tr>\n",
              "    <tr>\n",
              "      <th>Buenos Aires</th>\n",
              "      <td>99152471</td>\n",
              "      <td>349962.0</td>\n",
              "    </tr>\n",
              "  </tbody>\n",
              "</table>\n",
              "</div>"
            ],
            "text/plain": [
              "               Domingos  Elecciones\n",
              "Total         244246454   2245296.0\n",
              "Jujuy           4204792    307137.0\n",
              "Buenos Aires   99152471    349962.0"
            ]
          },
          "metadata": {},
          "output_type": "display_data"
        }
      ],
      "source": [
        "VisualizacionDatos = pd.DataFrame()\n",
        "\n",
        "VisualizacionDatos['Domingos'] = {\n",
        "    'Total':TotalDomingos,\n",
        "    'Jujuy':TotalDomingosJujuy,\n",
        "    'Buenos Aires':TotalDomingosBSAS\n",
        "                                       }\n",
        "VisualizacionDatos['Elecciones'] = {\n",
        "    'Total':TotalElecciones,\n",
        "    'Jujuy':TotalEleccionesJujuy,\n",
        "    'Buenos Aires':TotalEleccionesBSAS\n",
        "                                       }\n",
        "#Armamos un df para visualizar los datos\n",
        "display(VisualizacionDatos)"
      ]
    },
    {
      "cell_type": "code",
      "execution_count": 40,
      "metadata": {
        "colab": {
          "base_uri": "https://localhost:8080/",
          "height": 602
        },
        "id": "mjRg8QvLFy1w",
        "outputId": "8689bb03-90b1-4719-b539-811f874a6b9e"
      },
      "outputs": [
        {
          "data": {
            "image/png": "[encoded data removed]",
            "text/plain": [
              "<Figure size 300x300 with 1 Axes>"
            ]
          },
          "metadata": {},
          "output_type": "display_data"
        },
        {
          "name": "stdout",
          "output_type": "stream",
          "text": [
            "\n"
          ]
        },
        {
          "data": {
            "image/png": "[encoded data removed]",
            "text/plain": [
              "<Figure size 300x300 with 1 Axes>"
            ]
          },
          "metadata": {},
          "output_type": "display_data"
        }
      ],
      "source": [
        "from matplotlib.ticker import FixedFormatter\n",
        "empty_formatter = FixedFormatter([])\n",
        "\n",
        "DomingosPlot = (\n",
        "    so.Plot(x=['Jujuy','Buenos Aires'], y=[TotalDomingosJujuy, TotalDomingosBSAS], color=['Jujuy','Buenos Aires'])\n",
        "    .add(so.Bars(), legend=False)\n",
        "    .layout(size=(3,3))\n",
        "    .scale(color={'Buenos Aires':'lightseagreen', 'Jujuy':'royalblue'}, y=so.Continuous().tick().label(formatter = empty_formatter))\n",
        "    .label(title='Total domingos por provincia')\n",
        ")\n",
        "\n",
        "EleccionesPlot = (\n",
        "    so.Plot(x=['Jujuy','Buenos Aires'], y=[TotalEleccionesJujuy, TotalEleccionesBSAS], color=['Jujuy','Buenos Aires'])\n",
        "    .add(so.Bars(), legend=False)\n",
        "    .layout(size=(3,3))\n",
        "    .scale(color={'Buenos Aires':'lightseagreen', 'Jujuy':'royalblue'}, y=so.Continuous().tick().label(formatter = empty_formatter))\n",
        "    .label(title='Total elecciones por provincia')\n",
        ")\n",
        "DomingosPlot.show()\n",
        "print()\n",
        "EleccionesPlot.show()"
      ]
    },
    {
      "cell_type": "markdown",
      "metadata": {
        "id": "hCDlCakPX7ty"
      },
      "source": [
        "A simple vista vemos que Buenos Aires y Jujuy movieron mas o menos la misma cantidad de gente durante las elecciones, pero en general los domingos Buenos Aires mueve mas de 20 veces la gente de Jujuy."
      ]
    },
    {
      "cell_type": "markdown",
      "metadata": {
        "id": "sjmx8O98YLyS"
      },
      "source": [
        "Calculamos las medias\n"
      ]
    },
    {
      "cell_type": "code",
      "execution_count": 41,
      "metadata": {
        "id": "g1FrYUXIYOU0"
      },
      "outputs": [],
      "source": [
        "MediaTotalDomingos = round(TotalDomingos/CantidadFechas)\n",
        "MediaTotalElecciones = round(TotalElecciones/3)\n",
        "\n",
        "MediaTotalDomingosJujuy = round(TotalDomingosJujuy/CantidadFechas)\n",
        "MediaTotalDomingosBSAS = round(TotalDomingosBSAS/CantidadFechas)\n",
        "\n",
        "MediaEleccionesJujuy = round(TotalEleccionesJujuy/3)\n",
        "MediaEleccionesBSAS = round(TotalEleccionesBSAS/3)"
      ]
    },
    {
      "cell_type": "code",
      "execution_count": 42,
      "metadata": {
        "colab": {
          "base_uri": "https://localhost:8080/",
          "height": 143
        },
        "id": "XfGNwWDFQw0l",
        "outputId": "8f0d623d-72b3-4369-8419-9c42dd698f2e"
      },
      "outputs": [
        {
          "data": {
            "text/html": [
              "<div>\n",
              "<style scoped>\n",
              "    .dataframe tbody tr th:only-of-type {\n",
              "        vertical-align: middle;\n",
              "    }\n",
              "\n",
              "    .dataframe tbody tr th {\n",
              "        vertical-align: top;\n",
              "    }\n",
              "\n",
              "    .dataframe thead th {\n",
              "        text-align: right;\n",
              "    }\n",
              "</style>\n",
              "<table border=\"1\" class=\"dataframe\">\n",
              "  <thead>\n",
              "    <tr style=\"text-align: right;\">\n",
              "      <th></th>\n",
              "      <th>Domingos</th>\n",
              "      <th>Elecciones</th>\n",
              "      <th>Media Domingos</th>\n",
              "      <th>Media Elecciones</th>\n",
              "    </tr>\n",
              "  </thead>\n",
              "  <tbody>\n",
              "    <tr>\n",
              "      <th>Total</th>\n",
              "      <td>244246454</td>\n",
              "      <td>2245296.0</td>\n",
              "      <td>4608424</td>\n",
              "      <td>748432</td>\n",
              "    </tr>\n",
              "    <tr>\n",
              "      <th>Jujuy</th>\n",
              "      <td>4204792</td>\n",
              "      <td>307137.0</td>\n",
              "      <td>79336</td>\n",
              "      <td>102379</td>\n",
              "    </tr>\n",
              "    <tr>\n",
              "      <th>Buenos Aires</th>\n",
              "      <td>99152471</td>\n",
              "      <td>349962.0</td>\n",
              "      <td>1870801</td>\n",
              "      <td>116654</td>\n",
              "    </tr>\n",
              "  </tbody>\n",
              "</table>\n",
              "</div>"
            ],
            "text/plain": [
              "               Domingos  Elecciones  Media Domingos  Media Elecciones\n",
              "Total         244246454   2245296.0         4608424            748432\n",
              "Jujuy           4204792    307137.0           79336            102379\n",
              "Buenos Aires   99152471    349962.0         1870801            116654"
            ]
          },
          "execution_count": 42,
          "metadata": {},
          "output_type": "execute_result"
        }
      ],
      "source": [
        "VisualizacionDatos['Media Domingos'] = {\n",
        "    'Total':MediaTotalDomingos,\n",
        "    'Jujuy':MediaTotalDomingosJujuy,\n",
        "    'Buenos Aires':MediaTotalDomingosBSAS\n",
        "                                       }\n",
        "VisualizacionDatos['Media Elecciones'] = {\n",
        "    'Total':MediaTotalElecciones,\n",
        "    'Jujuy':MediaEleccionesJujuy,\n",
        "    'Buenos Aires':MediaEleccionesBSAS\n",
        "                                       }\n",
        "#Utilizamos el df anterior para visualizar los datos\n",
        "VisualizacionDatos"
      ]
    },
    {
      "cell_type": "markdown",
      "metadata": {
        "id": "kpzgKvscb2QV"
      },
      "source": [
        "Vemos proporciones"
      ]
    },
    {
      "cell_type": "code",
      "execution_count": 43,
      "metadata": {
        "id": "vgoLm3ymb8dS"
      },
      "outputs": [],
      "source": [
        "RelDomingosEleccionesTotal = (MediaTotalElecciones/MediaTotalDomingos) * 100 #Qué porcentaje de los movimientos totales representan las elecciones\n",
        "\n",
        "RelDomingosDomingosJujuy = (MediaTotalDomingosJujuy/MediaTotalDomingos) * 100 #Qué porcentaje de los movimientos totales representa Jujuy\n",
        "RelDomingosDomingosBSAS = (MediaTotalDomingosBSAS/MediaTotalDomingos) * 100 #Qué porcentaje de los movimientos totales representa Buenos Aires\n",
        "\n",
        "RelEleccionesEleccionesJujuy = (MediaEleccionesJujuy/MediaTotalElecciones) * 100 #Qué porcentaje de las elecciones representa Jujuy\n",
        "RelEleccionesEleccionesBSAS = (MediaEleccionesBSAS/MediaTotalElecciones) * 100 #Qué porcentaje de las elecciones representa Buenos Aires"
      ]
    },
    {
      "cell_type": "code",
      "execution_count": 44,
      "metadata": {
        "id": "b3ldTeKMuYzD"
      },
      "outputs": [],
      "source": [
        "Participacion_EleccionesTotal = pd.Series([RelDomingosEleccionesTotal,100-RelDomingosEleccionesTotal], index = [\"Elecciones\",\"Porcentaje Restante\"])\n",
        "Participacion_ProvinciasTotal = pd.Series([RelDomingosDomingosJujuy,RelDomingosDomingosBSAS,100-RelDomingosDomingosJujuy-RelDomingosDomingosBSAS], index = [\"Jujuy\", \"Buenos Aires\",\"Porcentaje Restante\"])\n",
        "Participacion_Provincias_Elecciones = pd.Series([RelEleccionesEleccionesJujuy,RelEleccionesEleccionesBSAS,100-RelEleccionesEleccionesJujuy-RelEleccionesEleccionesBSAS], index = [\"Jujuy\", \"Buenos Aires\", \"Porcentaje Restante\"])"
      ]
    },
    {
      "cell_type": "code",
      "execution_count": 45,
      "metadata": {
        "id": "GjOH0vnLxat4"
      },
      "outputs": [],
      "source": [
        "Participacion_EleccionesTotal = pd.DataFrame(Participacion_EleccionesTotal, columns = [\"Participación\"])\n",
        "Participacion_ProvinciasTotal = pd.DataFrame(Participacion_ProvinciasTotal, columns = [\"Participación\"])\n",
        "Participacion_Provincias_Elecciones = pd.DataFrame(Participacion_Provincias_Elecciones, columns = [\"Participación\"])"
      ]
    },
    {
      "cell_type": "code",
      "execution_count": 46,
      "metadata": {
        "id": "ngq8gSBczp20"
      },
      "outputs": [],
      "source": [
        "Participacion_EleccionesTotal[\"Categoria\"] = Participacion_EleccionesTotal.index\n",
        "Participacion_EleccionesTotal[\"Total\"] = \"\"\n",
        "Participacion_ProvinciasTotal[\"Categoria\"] = Participacion_ProvinciasTotal.index\n",
        "Participacion_ProvinciasTotal[\"Total\"] = \"\"\n",
        "Participacion_Provincias_Elecciones[\"Categoria\"] = Participacion_Provincias_Elecciones.index\n",
        "Participacion_Provincias_Elecciones[\"Total\"] = \"\""
      ]
    },
    {
      "cell_type": "code",
      "execution_count": 47,
      "metadata": {
        "colab": {
          "base_uri": "https://localhost:8080/",
          "height": 356
        },
        "id": "HbdNYItPy_31",
        "outputId": "3af92686-0fa0-421b-8178-a299bb8faa3d"
      },
      "outputs": [
        {
          "data": {
            "image/png": "[encoded data removed]",
            "text/plain": [
              "<Figure size 900x100 with 1 Axes>"
            ]
          },
          "metadata": {},
          "output_type": "display_data"
        },
        {
          "data": {
            "image/png": "[encoded data removed]",
            "text/plain": [
              "<Figure size 900x100 with 1 Axes>"
            ]
          },
          "metadata": {},
          "output_type": "display_data"
        },
        {
          "data": {
            "image/png": "[encoded data removed]",
            "text/plain": [
              "<Figure size 900x100 with 1 Axes>"
            ]
          },
          "metadata": {},
          "output_type": "display_data"
        }
      ],
      "source": [
        "Graf1 = (so.Plot(Participacion_EleccionesTotal, x = \"Participación\", y = \"Total\", color=\"Categoria\").add(so.Bar(),so.Stack())\n",
        "         .layout(size=(9,1),extent = [0, 0, .75, 1.3])\n",
        "         .label(x=\"\", y=\"\", color=\"\",title = \"Participación elecciones en la media de los domingos\")\n",
        "         .scale(color={'Porcentaje Restante':'lightgray','Elecciones':'darkorange'}))\n",
        "Graf2 = (so.Plot(Participacion_ProvinciasTotal, x = \"Participación\", y = \"Total\", color=\"Categoria\").add(so.Bar(),so.Stack())\n",
        "        .layout(size=(9,1),extent = [0, 0, .75, 1.3])\n",
        "        .label(x=\"\", y=\"\", color=\"\",title = \"Participación provincias en la media de los domingos\")\n",
        "        .scale(color={'Porcentaje Restante':'lightgray','Buenos Aires':'lightseagreen', 'Jujuy':'royalblue'})\n",
        "        )\n",
        "Graf3 = (so.Plot(Participacion_Provincias_Elecciones, x = \"Participación\", y = \"Total\", color=\"Categoria\").add(so.Bar(),so.Stack())\n",
        "        .layout(size=(9,1),extent = [0, 0, .75, 1.3])\n",
        "        .label(x=\"\", y=\"\", color=\"\",title = \"Participación provincias en elecciones\")\n",
        "        .scale(color={'Porcentaje Restante':'lightgray','Buenos Aires':'lightseagreen', 'Jujuy':'royalblue'})\n",
        "        )\n",
        "Graf1.show()\n",
        "Graf2.show()\n",
        "Graf3.show()"
      ]
    },
    {
      "cell_type": "code",
      "execution_count": 48,
      "metadata": {
        "colab": {
          "base_uri": "https://localhost:8080/"
        },
        "id": "gKp0fa3XdjET",
        "outputId": "1f3c0291-078d-4c36-f167-80e68eadf8f7"
      },
      "outputs": [
        {
          "name": "stdout",
          "output_type": "stream",
          "text": [
            "Relación Domingos - Elecciones_Total = 16.24%\n",
            "Relación Domingos - DomingosJujuy = 1.72%\n",
            "Relación Domingos - DomingosBSAS = 40.6%\n",
            "Relación Elecciones - EleccionesJujuy = 13.68%\n",
            "Relación Elecciones - EleccionesBSAS = 15.59%\n"
          ]
        }
      ],
      "source": [
        "print(f'Relación Domingos - Elecciones_Total = {round(RelDomingosEleccionesTotal,2)}%')\n",
        "print(f'Relación Domingos - DomingosJujuy = {round(RelDomingosDomingosJujuy, 2)}%')\n",
        "print(f'Relación Domingos - DomingosBSAS = {round(RelDomingosDomingosBSAS, 2)}%' )\n",
        "print(f'Relación Elecciones - EleccionesJujuy = {round(RelEleccionesEleccionesJujuy, 2)}%')\n",
        "print(f'Relación Elecciones - EleccionesBSAS = {round(RelEleccionesEleccionesBSAS, 2)}%')"
      ]
    },
    {
      "cell_type": "markdown",
      "metadata": {
        "id": "Rescf1gMevvc"
      },
      "source": [
        "Primero observamos que durante las elecciones hubo solo un 16% de los registros que se acostumbra los domingos en general. Esto se explica con la medida del gobierno de hacer la mayoría de los transportes gratuitos (por lo que no se se registran los viajes)."
      ]
    },
    {
      "cell_type": "markdown",
      "metadata": {
        "id": "wdO8greUfNGf"
      },
      "source": [
        "Vemos también que los domingos los viajes realizados en Buenos Aires representan un 40% de los viajes totales en todo el país, mientras que los de Jujuy no llegan al 2%.\n",
        "\n",
        "Sin embargo, durante las elecciones Buenos Aires y Jujuy tuvieron una participación similar, de alrededor del 15% del total. Esto también se condice con el hecho de que Jujuy no se haya adherido a la medida, y los viajes registrados de Buenos Aires deberían ser aquellos registrados fuera del horario electoral.\n",
        "\n",
        "De esta manera, como los registros de Buenos Aires disminuyeron significativamente, los de Jujuy pasaron a ser comparables con ellos, dandole así un peso mucho mayor de lo usual a Jujuy."
      ]
    },
    {
      "cell_type": "markdown",
      "metadata": {
        "id": "r_kCtm7sgBv-"
      },
      "source": [
        "Por último, graficamos los movimientos de Buenos Aires y Jujuy a los largo de todos los domingos, para comparar su comportamiento durante las elecciones."
      ]
    },
    {
      "cell_type": "code",
      "execution_count": 49,
      "metadata": {
        "collapsed": true,
        "id": "qcvYIX5ZoIoq"
      },
      "outputs": [],
      "source": [
        "#Armamos un DF con los domingos de Jujuy y BSAS\n",
        "DomingosGrafico = Domingos.query(\"PROVINCIA == 'BUENOS AIRES' or PROVINCIA == 'JUJUY'\").sort_values(\"PROVINCIA\", ascending = True)"
      ]
    },
    {
      "cell_type": "code",
      "execution_count": 50,
      "metadata": {
        "colab": {
          "base_uri": "https://localhost:8080/",
          "height": 309
        },
        "id": "4ikP6GSGjXVV",
        "outputId": "fdea61c0-8f3c-4c83-d566-d828dc5e95c1"
      },
      "outputs": [
        {
          "data": {
            "image/png": "[encoded data removed]",
            "text/plain": [
              "<Figure size 1500x400 with 1 Axes>"
            ]
          },
          "metadata": {},
          "output_type": "display_data"
        }
      ],
      "source": [
        "P = (\n",
        "    so.Plot(data = DomingosGrafico, x = \"DIA_TRANSPORTE\", y = \"CANTIDAD\", edgecolor =\"DiasElecciones\", color = \"PROVINCIA\")\n",
        "    .add(so.Bars(width=1.0), so.Agg(\"sum\"), so.Dodge(empty=\"fill\"))\n",
        "    .layout(size=(15,4), extent = [0, 0, .85, 1])\n",
        "    .scale(color={'BUENOS AIRES':'lightseagreen', 'JUJUY':'royalblue'}, edgecolor={'SI':'red', 'NO':'white'})\n",
        "    .label(x = \"Fecha\", y = \"Cantidad de pasajeros (en millones)\", title = \"Cantidad de pasajeros por fecha\")\n",
        ")\n",
        "\n",
        "P.show()\n"
      ]
    },
    {
      "cell_type": "markdown",
      "metadata": {
        "id": "YsjjeTdLoqkO"
      },
      "source": [
        "Y como esperabamos, podemos ver claramente que en los días de elecciones el movimiento de Buenos Aires disminuyó considerablemente, mientras que en Jujuy se mantuvo relativamente constante. Además, aunque en Jujuy el movimiento es mucho menor que en Buenos Aires, durante las elecciones fue similar.\n"
      ]
    },
    {
      "cell_type": "markdown",
      "metadata": {
        "id": "la0cwaxP_bSs"
      },
      "source": [
        "# **Modelado**"
      ]
    },
    {
      "cell_type": "markdown",
      "metadata": {
        "id": "qBgumU6Q_bSs"
      },
      "source": [
        "### **Ejercicio 5. Modelo de regresión. En este ítem, intentaremos ajustar la cantidad de pasajeros que viajan por día en una línea de colectivos utilizando la información de pasajeros por día de otras líneas. Para esto, utilizaremos el dataset sube-2023-regresion.csv**"
      ]
    },
    {
      "cell_type": "markdown",
      "metadata": {
        "id": "JLMEahvB_bSt"
      },
      "source": [
        "#### **(a) Generar un DataFrame en el que las columnas sean las líneas de colectivo (TIPO_TRANSPORTE == \"COLECTIVO\") de AMBA de jurisdicción nacional (PROVINCIA == \"JN\") y las obser- vaciones sean los días del año. Es decir, cada fila del DataFrame corresponde a un día del año, y en esa fila deben figurar la cantidad de pasajeros que viajaron en cada línea de colectivo en el día correspondiente.**"
      ]
    },
    {
      "cell_type": "code",
      "execution_count": 51,
      "metadata": {
        "id": "wX0OST-kCjEK"
      },
      "outputs": [],
      "source": [
        "datos_AMBA = pd.read_csv('sube-2023-regresion.csv')\n",
        "datos_AMBA = datos_AMBA.query('AMBA == \"SI\" and TIPO_TRANSPORTE == \"COLECTIVO\"')\n",
        "datos_ColectivoJN = datos_AMBA[datos_AMBA['PROVINCIA'] == 'JN']\n",
        "cols = datos_ColectivoJN[\"LINEA\"].unique() # Los nombres de las lineas de colectivo\n",
        "pasajeros_por_linea = pd.DataFrame ()\n",
        "for col in cols:\n",
        "  datos_linea = datos_ColectivoJN[datos_ColectivoJN.LINEA == col][[\"DIA_TRANSPORTE\", \"CANTIDAD\"]]\n",
        "  datos_linea = datos_linea.set_index(\"DIA_TRANSPORTE\").rename( columns = {\"CANTIDAD\" : col })\n",
        "  pasajeros_por_linea = pd.concat ([pasajeros_por_linea , datos_linea], axis = 1)\n",
        "\n"
      ]
    },
    {
      "cell_type": "markdown",
      "metadata": {
        "id": "HZfLacv7_bSu"
      },
      "source": [
        "#### **(b) Eliminar las columnas correspondientes a líneas de colectivo que tengan datos faltantes.**"
      ]
    },
    {
      "cell_type": "code",
      "execution_count": 52,
      "metadata": {
        "colab": {
          "base_uri": "https://localhost:8080/",
          "height": 257
        },
        "id": "jtoTSrPY_bSu",
        "outputId": "9c296417-832d-4213-a40c-73fb9bfedb80"
      },
      "outputs": [
        {
          "data": {
            "text/html": [
              "<div>\n",
              "<style scoped>\n",
              "    .dataframe tbody tr th:only-of-type {\n",
              "        vertical-align: middle;\n",
              "    }\n",
              "\n",
              "    .dataframe tbody tr th {\n",
              "        vertical-align: top;\n",
              "    }\n",
              "\n",
              "    .dataframe thead th {\n",
              "        text-align: right;\n",
              "    }\n",
              "</style>\n",
              "<table border=\"1\" class=\"dataframe\">\n",
              "  <thead>\n",
              "    <tr style=\"text-align: right;\">\n",
              "      <th></th>\n",
              "      <th>BSAS_LINEA_123</th>\n",
              "      <th>BSAS_LINEA_002</th>\n",
              "      <th>BSAS_LINEA_009</th>\n",
              "      <th>BSAS_LINEA_010</th>\n",
              "      <th>BSAS_LINEA_015</th>\n",
              "      <th>BSAS_LINEA_017</th>\n",
              "      <th>BSAS_LINEA_019</th>\n",
              "      <th>BSAS_LINEA_020</th>\n",
              "      <th>BSAS_LINEA_021</th>\n",
              "      <th>BSAS_LINEA_022</th>\n",
              "      <th>BSAS_LINEA_024</th>\n",
              "      <th>BSAS_LINEA_026</th>\n",
              "      <th>BSAS_LINEA_029</th>\n",
              "      <th>BSAS_LINEA_032</th>\n",
              "      <th>BSAS_LINEA_034</th>\n",
              "      <th>BSAS_LINEA_037</th>\n",
              "      <th>BSAS_LINEA_039</th>\n",
              "      <th>BSAS_LINEA_041</th>\n",
              "      <th>BSAS_LINEA_045</th>\n",
              "      <th>BSAS_LINEA_046</th>\n",
              "      <th>BSAS_LINEA_047</th>\n",
              "      <th>BSAS_LINEA_049</th>\n",
              "      <th>BSAS_LINEA_051</th>\n",
              "      <th>BSAS_LINEA_053</th>\n",
              "      <th>BSAS_LINEA_055</th>\n",
              "      <th>BSAS_LINEA_056</th>\n",
              "      <th>BSAS_LINEA_057</th>\n",
              "      <th>BSAS_LINEA_059</th>\n",
              "      <th>BSAS_LINEA_060</th>\n",
              "      <th>BSAS_LINEA_061</th>\n",
              "      <th>BSAS_LINEA_062</th>\n",
              "      <th>BSAS_LINEA_063</th>\n",
              "      <th>BSAS_LINEA_064</th>\n",
              "      <th>BSAS_LINEA_067</th>\n",
              "      <th>BSAS_LINEA_068</th>\n",
              "      <th>BSAS_LINEA_070</th>\n",
              "      <th>BSAS_LINEA_071</th>\n",
              "      <th>BSAS_LINEA_074</th>\n",
              "      <th>BSAS_LINEA_075</th>\n",
              "      <th>BSAS_LINEA_078</th>\n",
              "      <th>BSAS_LINEA_079</th>\n",
              "      <th>BSAS_LINEA_080</th>\n",
              "      <th>BSAS_LINEA_084</th>\n",
              "      <th>BSAS_LINEA_085</th>\n",
              "      <th>BSAS_LINEA_086</th>\n",
              "      <th>BSAS_LINEA_087</th>\n",
              "      <th>BSAS_LINEA_088</th>\n",
              "      <th>BSAS_LINEA_091</th>\n",
              "      <th>BSAS_LINEA_092</th>\n",
              "      <th>BSAS_LINEA_093</th>\n",
              "      <th>BSAS_LINEA_095</th>\n",
              "      <th>BSAS_LINEA_096</th>\n",
              "      <th>BSAS_LINEA_097</th>\n",
              "      <th>BSAS_LINEA_098</th>\n",
              "      <th>BSAS_LINEA_100</th>\n",
              "      <th>BSAS_LINEA_102</th>\n",
              "      <th>BSAS_LINEA_103</th>\n",
              "      <th>BSAS_LINEA_105</th>\n",
              "      <th>BSAS_LINEA_106</th>\n",
              "      <th>BSAS_LINEA_108</th>\n",
              "      <th>BSAS_LINEA_109</th>\n",
              "      <th>BSAS_LINEA_110</th>\n",
              "      <th>BSAS_LINEA_111</th>\n",
              "      <th>BSAS_LINEA_113</th>\n",
              "      <th>BSAS_LINEA_115</th>\n",
              "      <th>BSAS_LINEA_117</th>\n",
              "      <th>BSAS_LINEA_118</th>\n",
              "      <th>BSAS_LINEA_124</th>\n",
              "      <th>BSAS_LINEA_126</th>\n",
              "      <th>BSAS_LINEA_127</th>\n",
              "      <th>BSAS_LINEA_128</th>\n",
              "      <th>BSAS_LINEA_130</th>\n",
              "      <th>BSAS_LINEA_132</th>\n",
              "      <th>BSAS_LINEA_133</th>\n",
              "      <th>BSAS_LINEA_134</th>\n",
              "      <th>BSAS_LINEA_135</th>\n",
              "      <th>BSAS_LINEA_136</th>\n",
              "      <th>BSAS_LINEA_140</th>\n",
              "      <th>BSAS_LINEA_143</th>\n",
              "      <th>BSAS_LINEA_146</th>\n",
              "      <th>BSAS_LINEA_150</th>\n",
              "      <th>BSAS_LINEA_152</th>\n",
              "      <th>BSAS_LINEA_153</th>\n",
              "      <th>BSAS_LINEA_154</th>\n",
              "      <th>BSAS_LINEA_158</th>\n",
              "      <th>BSAS_LINEA_159</th>\n",
              "      <th>BSAS_LINEA_160</th>\n",
              "      <th>BSAS_LINEA_161</th>\n",
              "      <th>BSAS_LINEA_163</th>\n",
              "      <th>BSAS_LINEA_166</th>\n",
              "      <th>BSAS_LINEA_168</th>\n",
              "      <th>BSAS_LINEA_169</th>\n",
              "      <th>BSAS_LINEA_172</th>\n",
              "      <th>BSAS_LINEA_174</th>\n",
              "      <th>BSAS_LINEA_176</th>\n",
              "      <th>BSAS_LINEA_177</th>\n",
              "      <th>BSAS_LINEA_178</th>\n",
              "      <th>BSAS_LINEA_179</th>\n",
              "      <th>BSAS_LINEA_180</th>\n",
              "      <th>BSAS_LINEA_181</th>\n",
              "      <th>BSAS_LINEA_182</th>\n",
              "      <th>BSAS_LINEA_185</th>\n",
              "      <th>BSAS_LINEA_188</th>\n",
              "      <th>BSAS_LINEA_193</th>\n",
              "      <th>BSAS_LINEA_25</th>\n",
              "      <th>BSAS_LINEA_31</th>\n",
              "      <th>LINEA_1</th>\n",
              "      <th>LINEA_101</th>\n",
              "      <th>LINEA_107</th>\n",
              "      <th>LINEA_12</th>\n",
              "      <th>LINEA_184</th>\n",
              "      <th>LINEA_23</th>\n",
              "      <th>LINEA_28</th>\n",
              "      <th>LINEA_33</th>\n",
              "      <th>LINEA_4</th>\n",
              "      <th>LINEA_42</th>\n",
              "      <th>LINEA_44</th>\n",
              "      <th>LINEA_50</th>\n",
              "      <th>LINEA_6</th>\n",
              "      <th>LINEA_7</th>\n",
              "      <th>LINEA_76</th>\n",
              "      <th>LINEA_8</th>\n",
              "      <th>LINEA_099</th>\n",
              "      <th>LINEA_164_AMBA</th>\n",
              "    </tr>\n",
              "    <tr>\n",
              "      <th>DIA_TRANSPORTE</th>\n",
              "      <th></th>\n",
              "      <th></th>\n",
              "      <th></th>\n",
              "      <th></th>\n",
              "      <th></th>\n",
              "      <th></th>\n",
              "      <th></th>\n",
              "      <th></th>\n",
              "      <th></th>\n",
              "      <th></th>\n",
              "      <th></th>\n",
              "      <th></th>\n",
              "      <th></th>\n",
              "      <th></th>\n",
              "      <th></th>\n",
              "      <th></th>\n",
              "      <th></th>\n",
              "      <th></th>\n",
              "      <th></th>\n",
              "      <th></th>\n",
              "      <th></th>\n",
              "      <th></th>\n",
              "      <th></th>\n",
              "      <th></th>\n",
              "      <th></th>\n",
              "      <th></th>\n",
              "      <th></th>\n",
              "      <th></th>\n",
              "      <th></th>\n",
              "      <th></th>\n",
              "      <th></th>\n",
              "      <th></th>\n",
              "      <th></th>\n",
              "      <th></th>\n",
              "      <th></th>\n",
              "      <th></th>\n",
              "      <th></th>\n",
              "      <th></th>\n",
              "      <th></th>\n",
              "      <th></th>\n",
              "      <th></th>\n",
              "      <th></th>\n",
              "      <th></th>\n",
              "      <th></th>\n",
              "      <th></th>\n",
              "      <th></th>\n",
              "      <th></th>\n",
              "      <th></th>\n",
              "      <th></th>\n",
              "      <th></th>\n",
              "      <th></th>\n",
              "      <th></th>\n",
              "      <th></th>\n",
              "      <th></th>\n",
              "      <th></th>\n",
              "      <th></th>\n",
              "      <th></th>\n",
              "      <th></th>\n",
              "      <th></th>\n",
              "      <th></th>\n",
              "      <th></th>\n",
              "      <th></th>\n",
              "      <th></th>\n",
              "      <th></th>\n",
              "      <th></th>\n",
              "      <th></th>\n",
              "      <th></th>\n",
              "      <th></th>\n",
              "      <th></th>\n",
              "      <th></th>\n",
              "      <th></th>\n",
              "      <th></th>\n",
              "      <th></th>\n",
              "      <th></th>\n",
              "      <th></th>\n",
              "      <th></th>\n",
              "      <th></th>\n",
              "      <th></th>\n",
              "      <th></th>\n",
              "      <th></th>\n",
              "      <th></th>\n",
              "      <th></th>\n",
              "      <th></th>\n",
              "      <th></th>\n",
              "      <th></th>\n",
              "      <th></th>\n",
              "      <th></th>\n",
              "      <th></th>\n",
              "      <th></th>\n",
              "      <th></th>\n",
              "      <th></th>\n",
              "      <th></th>\n",
              "      <th></th>\n",
              "      <th></th>\n",
              "      <th></th>\n",
              "      <th></th>\n",
              "      <th></th>\n",
              "      <th></th>\n",
              "      <th></th>\n",
              "      <th></th>\n",
              "      <th></th>\n",
              "      <th></th>\n",
              "      <th></th>\n",
              "      <th></th>\n",
              "      <th></th>\n",
              "      <th></th>\n",
              "      <th></th>\n",
              "      <th></th>\n",
              "      <th></th>\n",
              "      <th></th>\n",
              "      <th></th>\n",
              "      <th></th>\n",
              "      <th></th>\n",
              "      <th></th>\n",
              "      <th></th>\n",
              "      <th></th>\n",
              "      <th></th>\n",
              "      <th></th>\n",
              "      <th></th>\n",
              "      <th></th>\n",
              "      <th></th>\n",
              "      <th></th>\n",
              "      <th></th>\n",
              "      <th></th>\n",
              "    </tr>\n",
              "  </thead>\n",
              "  <tbody>\n",
              "    <tr>\n",
              "      <th>2023-01-01</th>\n",
              "      <td>1681</td>\n",
              "      <td>5670</td>\n",
              "      <td>5644</td>\n",
              "      <td>5177</td>\n",
              "      <td>9109</td>\n",
              "      <td>7013</td>\n",
              "      <td>1604</td>\n",
              "      <td>2617</td>\n",
              "      <td>11235</td>\n",
              "      <td>2202</td>\n",
              "      <td>7599</td>\n",
              "      <td>5399</td>\n",
              "      <td>4854</td>\n",
              "      <td>1280</td>\n",
              "      <td>8488</td>\n",
              "      <td>8705</td>\n",
              "      <td>8866</td>\n",
              "      <td>6496</td>\n",
              "      <td>6517</td>\n",
              "      <td>4223</td>\n",
              "      <td>2859</td>\n",
              "      <td>1506</td>\n",
              "      <td>4595</td>\n",
              "      <td>7853</td>\n",
              "      <td>4477</td>\n",
              "      <td>2059</td>\n",
              "      <td>8139</td>\n",
              "      <td>12243</td>\n",
              "      <td>17260</td>\n",
              "      <td>598</td>\n",
              "      <td>910</td>\n",
              "      <td>4566</td>\n",
              "      <td>4379</td>\n",
              "      <td>5229</td>\n",
              "      <td>8818</td>\n",
              "      <td>5139</td>\n",
              "      <td>7397</td>\n",
              "      <td>728</td>\n",
              "      <td>778</td>\n",
              "      <td>3474</td>\n",
              "      <td>3518</td>\n",
              "      <td>6392</td>\n",
              "      <td>3577</td>\n",
              "      <td>7958</td>\n",
              "      <td>875</td>\n",
              "      <td>2955</td>\n",
              "      <td>3643</td>\n",
              "      <td>5445</td>\n",
              "      <td>8494</td>\n",
              "      <td>2151</td>\n",
              "      <td>3036</td>\n",
              "      <td>2630</td>\n",
              "      <td>1672</td>\n",
              "      <td>9734</td>\n",
              "      <td>5677</td>\n",
              "      <td>3185</td>\n",
              "      <td>3742</td>\n",
              "      <td>6318</td>\n",
              "      <td>4921</td>\n",
              "      <td>1972</td>\n",
              "      <td>3676</td>\n",
              "      <td>4968</td>\n",
              "      <td>3270</td>\n",
              "      <td>3788</td>\n",
              "      <td>2951</td>\n",
              "      <td>5956</td>\n",
              "      <td>4741</td>\n",
              "      <td>2718</td>\n",
              "      <td>7052</td>\n",
              "      <td>3259</td>\n",
              "      <td>2862</td>\n",
              "      <td>4780</td>\n",
              "      <td>9691</td>\n",
              "      <td>2923</td>\n",
              "      <td>4371</td>\n",
              "      <td>3822</td>\n",
              "      <td>2416</td>\n",
              "      <td>2816</td>\n",
              "      <td>2249</td>\n",
              "      <td>4546</td>\n",
              "      <td>4033</td>\n",
              "      <td>14533</td>\n",
              "      <td>1535</td>\n",
              "      <td>468</td>\n",
              "      <td>2226</td>\n",
              "      <td>9450</td>\n",
              "      <td>10850</td>\n",
              "      <td>4989</td>\n",
              "      <td>1075</td>\n",
              "      <td>4734</td>\n",
              "      <td>3801</td>\n",
              "      <td>3542</td>\n",
              "      <td>1726</td>\n",
              "      <td>2486</td>\n",
              "      <td>6845</td>\n",
              "      <td>3610</td>\n",
              "      <td>5687</td>\n",
              "      <td>2071</td>\n",
              "      <td>11345</td>\n",
              "      <td>3433</td>\n",
              "      <td>5061</td>\n",
              "      <td>377</td>\n",
              "      <td>3535</td>\n",
              "      <td>418</td>\n",
              "      <td>1113</td>\n",
              "      <td>7013</td>\n",
              "      <td>1788</td>\n",
              "      <td>6080</td>\n",
              "      <td>4775</td>\n",
              "      <td>9757</td>\n",
              "      <td>1146</td>\n",
              "      <td>1033</td>\n",
              "      <td>10334</td>\n",
              "      <td>8076</td>\n",
              "      <td>2942</td>\n",
              "      <td>4029</td>\n",
              "      <td>4649</td>\n",
              "      <td>4839</td>\n",
              "      <td>2449</td>\n",
              "      <td>2184</td>\n",
              "      <td>3797</td>\n",
              "      <td>5317</td>\n",
              "      <td>1882</td>\n",
              "      <td>3210</td>\n",
              "    </tr>\n",
              "    <tr>\n",
              "      <th>2023-01-02</th>\n",
              "      <td>9440</td>\n",
              "      <td>21759</td>\n",
              "      <td>23284</td>\n",
              "      <td>21176</td>\n",
              "      <td>45269</td>\n",
              "      <td>29962</td>\n",
              "      <td>13921</td>\n",
              "      <td>11934</td>\n",
              "      <td>55611</td>\n",
              "      <td>13823</td>\n",
              "      <td>30397</td>\n",
              "      <td>19374</td>\n",
              "      <td>22673</td>\n",
              "      <td>9871</td>\n",
              "      <td>34304</td>\n",
              "      <td>30555</td>\n",
              "      <td>32876</td>\n",
              "      <td>27221</td>\n",
              "      <td>25514</td>\n",
              "      <td>17840</td>\n",
              "      <td>17010</td>\n",
              "      <td>9624</td>\n",
              "      <td>21816</td>\n",
              "      <td>37933</td>\n",
              "      <td>21677</td>\n",
              "      <td>12883</td>\n",
              "      <td>40993</td>\n",
              "      <td>48841</td>\n",
              "      <td>77768</td>\n",
              "      <td>6734</td>\n",
              "      <td>8295</td>\n",
              "      <td>22064</td>\n",
              "      <td>19653</td>\n",
              "      <td>24982</td>\n",
              "      <td>31462</td>\n",
              "      <td>17342</td>\n",
              "      <td>31498</td>\n",
              "      <td>7487</td>\n",
              "      <td>6533</td>\n",
              "      <td>22483</td>\n",
              "      <td>15555</td>\n",
              "      <td>30742</td>\n",
              "      <td>14379</td>\n",
              "      <td>34516</td>\n",
              "      <td>13399</td>\n",
              "      <td>18622</td>\n",
              "      <td>19192</td>\n",
              "      <td>23731</td>\n",
              "      <td>33474</td>\n",
              "      <td>12539</td>\n",
              "      <td>15188</td>\n",
              "      <td>34836</td>\n",
              "      <td>9757</td>\n",
              "      <td>45863</td>\n",
              "      <td>24726</td>\n",
              "      <td>16485</td>\n",
              "      <td>18192</td>\n",
              "      <td>22322</td>\n",
              "      <td>26317</td>\n",
              "      <td>13084</td>\n",
              "      <td>17211</td>\n",
              "      <td>23124</td>\n",
              "      <td>16264</td>\n",
              "      <td>25416</td>\n",
              "      <td>16797</td>\n",
              "      <td>24866</td>\n",
              "      <td>18452</td>\n",
              "      <td>17133</td>\n",
              "      <td>26766</td>\n",
              "      <td>16013</td>\n",
              "      <td>15408</td>\n",
              "      <td>29406</td>\n",
              "      <td>38528</td>\n",
              "      <td>18469</td>\n",
              "      <td>20254</td>\n",
              "      <td>22613</td>\n",
              "      <td>17033</td>\n",
              "      <td>16212</td>\n",
              "      <td>13392</td>\n",
              "      <td>21632</td>\n",
              "      <td>16375</td>\n",
              "      <td>52104</td>\n",
              "      <td>7954</td>\n",
              "      <td>3392</td>\n",
              "      <td>12302</td>\n",
              "      <td>50798</td>\n",
              "      <td>36501</td>\n",
              "      <td>34973</td>\n",
              "      <td>7571</td>\n",
              "      <td>24843</td>\n",
              "      <td>29578</td>\n",
              "      <td>22357</td>\n",
              "      <td>13336</td>\n",
              "      <td>17519</td>\n",
              "      <td>52213</td>\n",
              "      <td>17864</td>\n",
              "      <td>33676</td>\n",
              "      <td>9340</td>\n",
              "      <td>48916</td>\n",
              "      <td>16950</td>\n",
              "      <td>28994</td>\n",
              "      <td>7380</td>\n",
              "      <td>20269</td>\n",
              "      <td>4161</td>\n",
              "      <td>12894</td>\n",
              "      <td>31895</td>\n",
              "      <td>10278</td>\n",
              "      <td>30405</td>\n",
              "      <td>22222</td>\n",
              "      <td>36380</td>\n",
              "      <td>9583</td>\n",
              "      <td>8136</td>\n",
              "      <td>62934</td>\n",
              "      <td>33017</td>\n",
              "      <td>15329</td>\n",
              "      <td>19072</td>\n",
              "      <td>20387</td>\n",
              "      <td>16221</td>\n",
              "      <td>10486</td>\n",
              "      <td>12774</td>\n",
              "      <td>17374</td>\n",
              "      <td>23250</td>\n",
              "      <td>10322</td>\n",
              "      <td>19362</td>\n",
              "    </tr>\n",
              "    <tr>\n",
              "      <th>2023-01-04</th>\n",
              "      <td>10540</td>\n",
              "      <td>24755</td>\n",
              "      <td>25405</td>\n",
              "      <td>23806</td>\n",
              "      <td>52873</td>\n",
              "      <td>33659</td>\n",
              "      <td>16172</td>\n",
              "      <td>13366</td>\n",
              "      <td>61721</td>\n",
              "      <td>16206</td>\n",
              "      <td>33567</td>\n",
              "      <td>21889</td>\n",
              "      <td>27184</td>\n",
              "      <td>10604</td>\n",
              "      <td>38860</td>\n",
              "      <td>34761</td>\n",
              "      <td>38952</td>\n",
              "      <td>29849</td>\n",
              "      <td>27563</td>\n",
              "      <td>19420</td>\n",
              "      <td>19460</td>\n",
              "      <td>11324</td>\n",
              "      <td>24544</td>\n",
              "      <td>42345</td>\n",
              "      <td>25006</td>\n",
              "      <td>14566</td>\n",
              "      <td>44033</td>\n",
              "      <td>56781</td>\n",
              "      <td>87614</td>\n",
              "      <td>7606</td>\n",
              "      <td>7998</td>\n",
              "      <td>25218</td>\n",
              "      <td>20760</td>\n",
              "      <td>28400</td>\n",
              "      <td>35225</td>\n",
              "      <td>19215</td>\n",
              "      <td>34237</td>\n",
              "      <td>8530</td>\n",
              "      <td>7254</td>\n",
              "      <td>25031</td>\n",
              "      <td>18629</td>\n",
              "      <td>35363</td>\n",
              "      <td>16422</td>\n",
              "      <td>39769</td>\n",
              "      <td>15036</td>\n",
              "      <td>20903</td>\n",
              "      <td>20443</td>\n",
              "      <td>27284</td>\n",
              "      <td>37804</td>\n",
              "      <td>14505</td>\n",
              "      <td>16977</td>\n",
              "      <td>39931</td>\n",
              "      <td>11269</td>\n",
              "      <td>51836</td>\n",
              "      <td>27757</td>\n",
              "      <td>18695</td>\n",
              "      <td>20533</td>\n",
              "      <td>25169</td>\n",
              "      <td>30053</td>\n",
              "      <td>16166</td>\n",
              "      <td>20004</td>\n",
              "      <td>26636</td>\n",
              "      <td>17710</td>\n",
              "      <td>29415</td>\n",
              "      <td>17558</td>\n",
              "      <td>28032</td>\n",
              "      <td>19931</td>\n",
              "      <td>20422</td>\n",
              "      <td>30547</td>\n",
              "      <td>18264</td>\n",
              "      <td>18320</td>\n",
              "      <td>34393</td>\n",
              "      <td>41682</td>\n",
              "      <td>21276</td>\n",
              "      <td>22957</td>\n",
              "      <td>25607</td>\n",
              "      <td>17931</td>\n",
              "      <td>18724</td>\n",
              "      <td>14806</td>\n",
              "      <td>23753</td>\n",
              "      <td>17898</td>\n",
              "      <td>59989</td>\n",
              "      <td>8433</td>\n",
              "      <td>4032</td>\n",
              "      <td>13686</td>\n",
              "      <td>57708</td>\n",
              "      <td>41741</td>\n",
              "      <td>39594</td>\n",
              "      <td>8262</td>\n",
              "      <td>27651</td>\n",
              "      <td>33352</td>\n",
              "      <td>24428</td>\n",
              "      <td>15458</td>\n",
              "      <td>20715</td>\n",
              "      <td>57613</td>\n",
              "      <td>20801</td>\n",
              "      <td>37365</td>\n",
              "      <td>10967</td>\n",
              "      <td>54395</td>\n",
              "      <td>19244</td>\n",
              "      <td>33579</td>\n",
              "      <td>8570</td>\n",
              "      <td>21779</td>\n",
              "      <td>5695</td>\n",
              "      <td>14991</td>\n",
              "      <td>35523</td>\n",
              "      <td>11524</td>\n",
              "      <td>32545</td>\n",
              "      <td>25549</td>\n",
              "      <td>42120</td>\n",
              "      <td>11518</td>\n",
              "      <td>9507</td>\n",
              "      <td>72260</td>\n",
              "      <td>35216</td>\n",
              "      <td>17836</td>\n",
              "      <td>21609</td>\n",
              "      <td>23595</td>\n",
              "      <td>18448</td>\n",
              "      <td>12193</td>\n",
              "      <td>13949</td>\n",
              "      <td>19860</td>\n",
              "      <td>26294</td>\n",
              "      <td>11981</td>\n",
              "      <td>21784</td>\n",
              "    </tr>\n",
              "    <tr>\n",
              "      <th>2023-01-05</th>\n",
              "      <td>10408</td>\n",
              "      <td>25772</td>\n",
              "      <td>26489</td>\n",
              "      <td>24688</td>\n",
              "      <td>53436</td>\n",
              "      <td>35182</td>\n",
              "      <td>16569</td>\n",
              "      <td>12929</td>\n",
              "      <td>62510</td>\n",
              "      <td>16863</td>\n",
              "      <td>34352</td>\n",
              "      <td>22505</td>\n",
              "      <td>26773</td>\n",
              "      <td>11986</td>\n",
              "      <td>39567</td>\n",
              "      <td>34777</td>\n",
              "      <td>39808</td>\n",
              "      <td>31413</td>\n",
              "      <td>29314</td>\n",
              "      <td>21186</td>\n",
              "      <td>19802</td>\n",
              "      <td>11744</td>\n",
              "      <td>24619</td>\n",
              "      <td>44098</td>\n",
              "      <td>25885</td>\n",
              "      <td>15177</td>\n",
              "      <td>44128</td>\n",
              "      <td>57191</td>\n",
              "      <td>88869</td>\n",
              "      <td>8228</td>\n",
              "      <td>8785</td>\n",
              "      <td>25562</td>\n",
              "      <td>23105</td>\n",
              "      <td>28323</td>\n",
              "      <td>36673</td>\n",
              "      <td>20421</td>\n",
              "      <td>36517</td>\n",
              "      <td>8407</td>\n",
              "      <td>7418</td>\n",
              "      <td>25919</td>\n",
              "      <td>19910</td>\n",
              "      <td>37268</td>\n",
              "      <td>16128</td>\n",
              "      <td>41269</td>\n",
              "      <td>9799</td>\n",
              "      <td>21477</td>\n",
              "      <td>22850</td>\n",
              "      <td>28453</td>\n",
              "      <td>40012</td>\n",
              "      <td>15059</td>\n",
              "      <td>17572</td>\n",
              "      <td>40943</td>\n",
              "      <td>11618</td>\n",
              "      <td>57686</td>\n",
              "      <td>28160</td>\n",
              "      <td>18533</td>\n",
              "      <td>21027</td>\n",
              "      <td>26154</td>\n",
              "      <td>30230</td>\n",
              "      <td>15774</td>\n",
              "      <td>20021</td>\n",
              "      <td>27177</td>\n",
              "      <td>19240</td>\n",
              "      <td>30185</td>\n",
              "      <td>19357</td>\n",
              "      <td>28176</td>\n",
              "      <td>20917</td>\n",
              "      <td>20284</td>\n",
              "      <td>32140</td>\n",
              "      <td>19229</td>\n",
              "      <td>17970</td>\n",
              "      <td>33535</td>\n",
              "      <td>44929</td>\n",
              "      <td>22125</td>\n",
              "      <td>24324</td>\n",
              "      <td>26221</td>\n",
              "      <td>18736</td>\n",
              "      <td>19504</td>\n",
              "      <td>15512</td>\n",
              "      <td>24104</td>\n",
              "      <td>19526</td>\n",
              "      <td>60288</td>\n",
              "      <td>8988</td>\n",
              "      <td>4200</td>\n",
              "      <td>15533</td>\n",
              "      <td>59826</td>\n",
              "      <td>43678</td>\n",
              "      <td>40814</td>\n",
              "      <td>8413</td>\n",
              "      <td>28063</td>\n",
              "      <td>34594</td>\n",
              "      <td>25001</td>\n",
              "      <td>15982</td>\n",
              "      <td>21773</td>\n",
              "      <td>61017</td>\n",
              "      <td>22097</td>\n",
              "      <td>41136</td>\n",
              "      <td>11478</td>\n",
              "      <td>58367</td>\n",
              "      <td>19929</td>\n",
              "      <td>35357</td>\n",
              "      <td>9451</td>\n",
              "      <td>24001</td>\n",
              "      <td>3653</td>\n",
              "      <td>15360</td>\n",
              "      <td>35785</td>\n",
              "      <td>11435</td>\n",
              "      <td>35067</td>\n",
              "      <td>26603</td>\n",
              "      <td>41960</td>\n",
              "      <td>11726</td>\n",
              "      <td>9864</td>\n",
              "      <td>70733</td>\n",
              "      <td>36858</td>\n",
              "      <td>18044</td>\n",
              "      <td>21993</td>\n",
              "      <td>23687</td>\n",
              "      <td>18481</td>\n",
              "      <td>12888</td>\n",
              "      <td>14668</td>\n",
              "      <td>21235</td>\n",
              "      <td>27216</td>\n",
              "      <td>11787</td>\n",
              "      <td>22972</td>\n",
              "    </tr>\n",
              "    <tr>\n",
              "      <th>2023-01-06</th>\n",
              "      <td>10530</td>\n",
              "      <td>26021</td>\n",
              "      <td>26458</td>\n",
              "      <td>24167</td>\n",
              "      <td>53163</td>\n",
              "      <td>35212</td>\n",
              "      <td>16459</td>\n",
              "      <td>12955</td>\n",
              "      <td>63528</td>\n",
              "      <td>16846</td>\n",
              "      <td>34874</td>\n",
              "      <td>22730</td>\n",
              "      <td>26053</td>\n",
              "      <td>11495</td>\n",
              "      <td>40145</td>\n",
              "      <td>35050</td>\n",
              "      <td>39151</td>\n",
              "      <td>31024</td>\n",
              "      <td>28809</td>\n",
              "      <td>20987</td>\n",
              "      <td>19640</td>\n",
              "      <td>10567</td>\n",
              "      <td>25824</td>\n",
              "      <td>44315</td>\n",
              "      <td>26135</td>\n",
              "      <td>14724</td>\n",
              "      <td>46196</td>\n",
              "      <td>57387</td>\n",
              "      <td>90204</td>\n",
              "      <td>7846</td>\n",
              "      <td>8850</td>\n",
              "      <td>24673</td>\n",
              "      <td>23448</td>\n",
              "      <td>28390</td>\n",
              "      <td>36923</td>\n",
              "      <td>21130</td>\n",
              "      <td>36506</td>\n",
              "      <td>8915</td>\n",
              "      <td>7332</td>\n",
              "      <td>25754</td>\n",
              "      <td>19726</td>\n",
              "      <td>36312</td>\n",
              "      <td>16403</td>\n",
              "      <td>41845</td>\n",
              "      <td>15366</td>\n",
              "      <td>20263</td>\n",
              "      <td>24173</td>\n",
              "      <td>27902</td>\n",
              "      <td>39989</td>\n",
              "      <td>14024</td>\n",
              "      <td>17083</td>\n",
              "      <td>37822</td>\n",
              "      <td>10689</td>\n",
              "      <td>55595</td>\n",
              "      <td>28009</td>\n",
              "      <td>17792</td>\n",
              "      <td>21204</td>\n",
              "      <td>26060</td>\n",
              "      <td>30021</td>\n",
              "      <td>16065</td>\n",
              "      <td>19841</td>\n",
              "      <td>26526</td>\n",
              "      <td>19420</td>\n",
              "      <td>29428</td>\n",
              "      <td>19146</td>\n",
              "      <td>29350</td>\n",
              "      <td>20924</td>\n",
              "      <td>20070</td>\n",
              "      <td>31701</td>\n",
              "      <td>18557</td>\n",
              "      <td>18279</td>\n",
              "      <td>31968</td>\n",
              "      <td>44337</td>\n",
              "      <td>21681</td>\n",
              "      <td>23856</td>\n",
              "      <td>24224</td>\n",
              "      <td>19716</td>\n",
              "      <td>19830</td>\n",
              "      <td>15482</td>\n",
              "      <td>24899</td>\n",
              "      <td>19216</td>\n",
              "      <td>57939</td>\n",
              "      <td>9860</td>\n",
              "      <td>4159</td>\n",
              "      <td>15934</td>\n",
              "      <td>58986</td>\n",
              "      <td>43780</td>\n",
              "      <td>39711</td>\n",
              "      <td>9023</td>\n",
              "      <td>29567</td>\n",
              "      <td>35410</td>\n",
              "      <td>24581</td>\n",
              "      <td>15098</td>\n",
              "      <td>21429</td>\n",
              "      <td>62770</td>\n",
              "      <td>22018</td>\n",
              "      <td>40498</td>\n",
              "      <td>11005</td>\n",
              "      <td>59191</td>\n",
              "      <td>18971</td>\n",
              "      <td>33395</td>\n",
              "      <td>8817</td>\n",
              "      <td>23774</td>\n",
              "      <td>5320</td>\n",
              "      <td>15210</td>\n",
              "      <td>35545</td>\n",
              "      <td>11370</td>\n",
              "      <td>35070</td>\n",
              "      <td>26053</td>\n",
              "      <td>41876</td>\n",
              "      <td>11779</td>\n",
              "      <td>10012</td>\n",
              "      <td>70839</td>\n",
              "      <td>36805</td>\n",
              "      <td>18122</td>\n",
              "      <td>22421</td>\n",
              "      <td>23731</td>\n",
              "      <td>19300</td>\n",
              "      <td>12703</td>\n",
              "      <td>14199</td>\n",
              "      <td>23472</td>\n",
              "      <td>27073</td>\n",
              "      <td>11567</td>\n",
              "      <td>23411</td>\n",
              "    </tr>\n",
              "  </tbody>\n",
              "</table>\n",
              "</div>"
            ],
            "text/plain": [
              "                BSAS_LINEA_123  BSAS_LINEA_002  BSAS_LINEA_009  \\\n",
              "DIA_TRANSPORTE                                                   \n",
              "2023-01-01                1681            5670            5644   \n",
              "2023-01-02                9440           21759           23284   \n",
              "2023-01-04               10540           24755           25405   \n",
              "2023-01-05               10408           25772           26489   \n",
              "2023-01-06               10530           26021           26458   \n",
              "\n",
              "                BSAS_LINEA_010  BSAS_LINEA_015  BSAS_LINEA_017  \\\n",
              "DIA_TRANSPORTE                                                   \n",
              "2023-01-01                5177            9109            7013   \n",
              "2023-01-02               21176           45269           29962   \n",
              "2023-01-04               23806           52873           33659   \n",
              "2023-01-05               24688           53436           35182   \n",
              "2023-01-06               24167           53163           35212   \n",
              "\n",
              "                BSAS_LINEA_019  BSAS_LINEA_020  BSAS_LINEA_021  \\\n",
              "DIA_TRANSPORTE                                                   \n",
              "2023-01-01                1604            2617           11235   \n",
              "2023-01-02               13921           11934           55611   \n",
              "2023-01-04               16172           13366           61721   \n",
              "2023-01-05               16569           12929           62510   \n",
              "2023-01-06               16459           12955           63528   \n",
              "\n",
              "                BSAS_LINEA_022  BSAS_LINEA_024  BSAS_LINEA_026  \\\n",
              "DIA_TRANSPORTE                                                   \n",
              "2023-01-01                2202            7599            5399   \n",
              "2023-01-02               13823           30397           19374   \n",
              "2023-01-04               16206           33567           21889   \n",
              "2023-01-05               16863           34352           22505   \n",
              "2023-01-06               16846           34874           22730   \n",
              "\n",
              "                BSAS_LINEA_029  BSAS_LINEA_032  BSAS_LINEA_034  \\\n",
              "DIA_TRANSPORTE                                                   \n",
              "2023-01-01                4854            1280            8488   \n",
              "2023-01-02               22673            9871           34304   \n",
              "2023-01-04               27184           10604           38860   \n",
              "2023-01-05               26773           11986           39567   \n",
              "2023-01-06               26053           11495           40145   \n",
              "\n",
              "                BSAS_LINEA_037  BSAS_LINEA_039  BSAS_LINEA_041  \\\n",
              "DIA_TRANSPORTE                                                   \n",
              "2023-01-01                8705            8866            6496   \n",
              "2023-01-02               30555           32876           27221   \n",
              "2023-01-04               34761           38952           29849   \n",
              "2023-01-05               34777           39808           31413   \n",
              "2023-01-06               35050           39151           31024   \n",
              "\n",
              "                BSAS_LINEA_045  BSAS_LINEA_046  BSAS_LINEA_047  \\\n",
              "DIA_TRANSPORTE                                                   \n",
              "2023-01-01                6517            4223            2859   \n",
              "2023-01-02               25514           17840           17010   \n",
              "2023-01-04               27563           19420           19460   \n",
              "2023-01-05               29314           21186           19802   \n",
              "2023-01-06               28809           20987           19640   \n",
              "\n",
              "                BSAS_LINEA_049  BSAS_LINEA_051  BSAS_LINEA_053  \\\n",
              "DIA_TRANSPORTE                                                   \n",
              "2023-01-01                1506            4595            7853   \n",
              "2023-01-02                9624           21816           37933   \n",
              "2023-01-04               11324           24544           42345   \n",
              "2023-01-05               11744           24619           44098   \n",
              "2023-01-06               10567           25824           44315   \n",
              "\n",
              "                BSAS_LINEA_055  BSAS_LINEA_056  BSAS_LINEA_057  \\\n",
              "DIA_TRANSPORTE                                                   \n",
              "2023-01-01                4477            2059            8139   \n",
              "2023-01-02               21677           12883           40993   \n",
              "2023-01-04               25006           14566           44033   \n",
              "2023-01-05               25885           15177           44128   \n",
              "2023-01-06               26135           14724           46196   \n",
              "\n",
              "                BSAS_LINEA_059  BSAS_LINEA_060  BSAS_LINEA_061  \\\n",
              "DIA_TRANSPORTE                                                   \n",
              "2023-01-01               12243           17260             598   \n",
              "2023-01-02               48841           77768            6734   \n",
              "2023-01-04               56781           87614            7606   \n",
              "2023-01-05               57191           88869            8228   \n",
              "2023-01-06               57387           90204            7846   \n",
              "\n",
              "                BSAS_LINEA_062  BSAS_LINEA_063  BSAS_LINEA_064  \\\n",
              "DIA_TRANSPORTE                                                   \n",
              "2023-01-01                 910            4566            4379   \n",
              "2023-01-02                8295           22064           19653   \n",
              "2023-01-04                7998           25218           20760   \n",
              "2023-01-05                8785           25562           23105   \n",
              "2023-01-06                8850           24673           23448   \n",
              "\n",
              "                BSAS_LINEA_067  BSAS_LINEA_068  BSAS_LINEA_070  \\\n",
              "DIA_TRANSPORTE                                                   \n",
              "2023-01-01                5229            8818            5139   \n",
              "2023-01-02               24982           31462           17342   \n",
              "2023-01-04               28400           35225           19215   \n",
              "2023-01-05               28323           36673           20421   \n",
              "2023-01-06               28390           36923           21130   \n",
              "\n",
              "                BSAS_LINEA_071  BSAS_LINEA_074  BSAS_LINEA_075  \\\n",
              "DIA_TRANSPORTE                                                   \n",
              "2023-01-01                7397             728             778   \n",
              "2023-01-02               31498            7487            6533   \n",
              "2023-01-04               34237            8530            7254   \n",
              "2023-01-05               36517            8407            7418   \n",
              "2023-01-06               36506            8915            7332   \n",
              "\n",
              "                BSAS_LINEA_078  BSAS_LINEA_079  BSAS_LINEA_080  \\\n",
              "DIA_TRANSPORTE                                                   \n",
              "2023-01-01                3474            3518            6392   \n",
              "2023-01-02               22483           15555           30742   \n",
              "2023-01-04               25031           18629           35363   \n",
              "2023-01-05               25919           19910           37268   \n",
              "2023-01-06               25754           19726           36312   \n",
              "\n",
              "                BSAS_LINEA_084  BSAS_LINEA_085  BSAS_LINEA_086  \\\n",
              "DIA_TRANSPORTE                                                   \n",
              "2023-01-01                3577            7958             875   \n",
              "2023-01-02               14379           34516           13399   \n",
              "2023-01-04               16422           39769           15036   \n",
              "2023-01-05               16128           41269            9799   \n",
              "2023-01-06               16403           41845           15366   \n",
              "\n",
              "                BSAS_LINEA_087  BSAS_LINEA_088  BSAS_LINEA_091  \\\n",
              "DIA_TRANSPORTE                                                   \n",
              "2023-01-01                2955            3643            5445   \n",
              "2023-01-02               18622           19192           23731   \n",
              "2023-01-04               20903           20443           27284   \n",
              "2023-01-05               21477           22850           28453   \n",
              "2023-01-06               20263           24173           27902   \n",
              "\n",
              "                BSAS_LINEA_092  BSAS_LINEA_093  BSAS_LINEA_095  \\\n",
              "DIA_TRANSPORTE                                                   \n",
              "2023-01-01                8494            2151            3036   \n",
              "2023-01-02               33474           12539           15188   \n",
              "2023-01-04               37804           14505           16977   \n",
              "2023-01-05               40012           15059           17572   \n",
              "2023-01-06               39989           14024           17083   \n",
              "\n",
              "                BSAS_LINEA_096  BSAS_LINEA_097  BSAS_LINEA_098  \\\n",
              "DIA_TRANSPORTE                                                   \n",
              "2023-01-01                2630            1672            9734   \n",
              "2023-01-02               34836            9757           45863   \n",
              "2023-01-04               39931           11269           51836   \n",
              "2023-01-05               40943           11618           57686   \n",
              "2023-01-06               37822           10689           55595   \n",
              "\n",
              "                BSAS_LINEA_100  BSAS_LINEA_102  BSAS_LINEA_103  \\\n",
              "DIA_TRANSPORTE                                                   \n",
              "2023-01-01                5677            3185            3742   \n",
              "2023-01-02               24726           16485           18192   \n",
              "2023-01-04               27757           18695           20533   \n",
              "2023-01-05               28160           18533           21027   \n",
              "2023-01-06               28009           17792           21204   \n",
              "\n",
              "                BSAS_LINEA_105  BSAS_LINEA_106  BSAS_LINEA_108  \\\n",
              "DIA_TRANSPORTE                                                   \n",
              "2023-01-01                6318            4921            1972   \n",
              "2023-01-02               22322           26317           13084   \n",
              "2023-01-04               25169           30053           16166   \n",
              "2023-01-05               26154           30230           15774   \n",
              "2023-01-06               26060           30021           16065   \n",
              "\n",
              "                BSAS_LINEA_109  BSAS_LINEA_110  BSAS_LINEA_111  \\\n",
              "DIA_TRANSPORTE                                                   \n",
              "2023-01-01                3676            4968            3270   \n",
              "2023-01-02               17211           23124           16264   \n",
              "2023-01-04               20004           26636           17710   \n",
              "2023-01-05               20021           27177           19240   \n",
              "2023-01-06               19841           26526           19420   \n",
              "\n",
              "                BSAS_LINEA_113  BSAS_LINEA_115  BSAS_LINEA_117  \\\n",
              "DIA_TRANSPORTE                                                   \n",
              "2023-01-01                3788            2951            5956   \n",
              "2023-01-02               25416           16797           24866   \n",
              "2023-01-04               29415           17558           28032   \n",
              "2023-01-05               30185           19357           28176   \n",
              "2023-01-06               29428           19146           29350   \n",
              "\n",
              "                BSAS_LINEA_118  BSAS_LINEA_124  BSAS_LINEA_126  \\\n",
              "DIA_TRANSPORTE                                                   \n",
              "2023-01-01                4741            2718            7052   \n",
              "2023-01-02               18452           17133           26766   \n",
              "2023-01-04               19931           20422           30547   \n",
              "2023-01-05               20917           20284           32140   \n",
              "2023-01-06               20924           20070           31701   \n",
              "\n",
              "                BSAS_LINEA_127  BSAS_LINEA_128  BSAS_LINEA_130  \\\n",
              "DIA_TRANSPORTE                                                   \n",
              "2023-01-01                3259            2862            4780   \n",
              "2023-01-02               16013           15408           29406   \n",
              "2023-01-04               18264           18320           34393   \n",
              "2023-01-05               19229           17970           33535   \n",
              "2023-01-06               18557           18279           31968   \n",
              "\n",
              "                BSAS_LINEA_132  BSAS_LINEA_133  BSAS_LINEA_134  \\\n",
              "DIA_TRANSPORTE                                                   \n",
              "2023-01-01                9691            2923            4371   \n",
              "2023-01-02               38528           18469           20254   \n",
              "2023-01-04               41682           21276           22957   \n",
              "2023-01-05               44929           22125           24324   \n",
              "2023-01-06               44337           21681           23856   \n",
              "\n",
              "                BSAS_LINEA_135  BSAS_LINEA_136  BSAS_LINEA_140  \\\n",
              "DIA_TRANSPORTE                                                   \n",
              "2023-01-01                3822            2416            2816   \n",
              "2023-01-02               22613           17033           16212   \n",
              "2023-01-04               25607           17931           18724   \n",
              "2023-01-05               26221           18736           19504   \n",
              "2023-01-06               24224           19716           19830   \n",
              "\n",
              "                BSAS_LINEA_143  BSAS_LINEA_146  BSAS_LINEA_150  \\\n",
              "DIA_TRANSPORTE                                                   \n",
              "2023-01-01                2249            4546            4033   \n",
              "2023-01-02               13392           21632           16375   \n",
              "2023-01-04               14806           23753           17898   \n",
              "2023-01-05               15512           24104           19526   \n",
              "2023-01-06               15482           24899           19216   \n",
              "\n",
              "                BSAS_LINEA_152  BSAS_LINEA_153  BSAS_LINEA_154  \\\n",
              "DIA_TRANSPORTE                                                   \n",
              "2023-01-01               14533            1535             468   \n",
              "2023-01-02               52104            7954            3392   \n",
              "2023-01-04               59989            8433            4032   \n",
              "2023-01-05               60288            8988            4200   \n",
              "2023-01-06               57939            9860            4159   \n",
              "\n",
              "                BSAS_LINEA_158  BSAS_LINEA_159  BSAS_LINEA_160  \\\n",
              "DIA_TRANSPORTE                                                   \n",
              "2023-01-01                2226            9450           10850   \n",
              "2023-01-02               12302           50798           36501   \n",
              "2023-01-04               13686           57708           41741   \n",
              "2023-01-05               15533           59826           43678   \n",
              "2023-01-06               15934           58986           43780   \n",
              "\n",
              "                BSAS_LINEA_161  BSAS_LINEA_163  BSAS_LINEA_166  \\\n",
              "DIA_TRANSPORTE                                                   \n",
              "2023-01-01                4989            1075            4734   \n",
              "2023-01-02               34973            7571           24843   \n",
              "2023-01-04               39594            8262           27651   \n",
              "2023-01-05               40814            8413           28063   \n",
              "2023-01-06               39711            9023           29567   \n",
              "\n",
              "                BSAS_LINEA_168  BSAS_LINEA_169  BSAS_LINEA_172  \\\n",
              "DIA_TRANSPORTE                                                   \n",
              "2023-01-01                3801            3542            1726   \n",
              "2023-01-02               29578           22357           13336   \n",
              "2023-01-04               33352           24428           15458   \n",
              "2023-01-05               34594           25001           15982   \n",
              "2023-01-06               35410           24581           15098   \n",
              "\n",
              "                BSAS_LINEA_174  BSAS_LINEA_176  BSAS_LINEA_177  \\\n",
              "DIA_TRANSPORTE                                                   \n",
              "2023-01-01                2486            6845            3610   \n",
              "2023-01-02               17519           52213           17864   \n",
              "2023-01-04               20715           57613           20801   \n",
              "2023-01-05               21773           61017           22097   \n",
              "2023-01-06               21429           62770           22018   \n",
              "\n",
              "                BSAS_LINEA_178  BSAS_LINEA_179  BSAS_LINEA_180  \\\n",
              "DIA_TRANSPORTE                                                   \n",
              "2023-01-01                5687            2071           11345   \n",
              "2023-01-02               33676            9340           48916   \n",
              "2023-01-04               37365           10967           54395   \n",
              "2023-01-05               41136           11478           58367   \n",
              "2023-01-06               40498           11005           59191   \n",
              "\n",
              "                BSAS_LINEA_181  BSAS_LINEA_182  BSAS_LINEA_185  \\\n",
              "DIA_TRANSPORTE                                                   \n",
              "2023-01-01                3433            5061             377   \n",
              "2023-01-02               16950           28994            7380   \n",
              "2023-01-04               19244           33579            8570   \n",
              "2023-01-05               19929           35357            9451   \n",
              "2023-01-06               18971           33395            8817   \n",
              "\n",
              "                BSAS_LINEA_188  BSAS_LINEA_193  BSAS_LINEA_25  BSAS_LINEA_31  \\\n",
              "DIA_TRANSPORTE                                                                 \n",
              "2023-01-01                3535             418           1113           7013   \n",
              "2023-01-02               20269            4161          12894          31895   \n",
              "2023-01-04               21779            5695          14991          35523   \n",
              "2023-01-05               24001            3653          15360          35785   \n",
              "2023-01-06               23774            5320          15210          35545   \n",
              "\n",
              "                LINEA_1  LINEA_101  LINEA_107  LINEA_12  LINEA_184  LINEA_23  \\\n",
              "DIA_TRANSPORTE                                                                 \n",
              "2023-01-01         1788       6080       4775      9757       1146      1033   \n",
              "2023-01-02        10278      30405      22222     36380       9583      8136   \n",
              "2023-01-04        11524      32545      25549     42120      11518      9507   \n",
              "2023-01-05        11435      35067      26603     41960      11726      9864   \n",
              "2023-01-06        11370      35070      26053     41876      11779     10012   \n",
              "\n",
              "                LINEA_28  LINEA_33  LINEA_4  LINEA_42  LINEA_44  LINEA_50  \\\n",
              "DIA_TRANSPORTE                                                              \n",
              "2023-01-01         10334      8076     2942      4029      4649      4839   \n",
              "2023-01-02         62934     33017    15329     19072     20387     16221   \n",
              "2023-01-04         72260     35216    17836     21609     23595     18448   \n",
              "2023-01-05         70733     36858    18044     21993     23687     18481   \n",
              "2023-01-06         70839     36805    18122     22421     23731     19300   \n",
              "\n",
              "                LINEA_6  LINEA_7  LINEA_76  LINEA_8  LINEA_099  LINEA_164_AMBA  \n",
              "DIA_TRANSPORTE                                                                  \n",
              "2023-01-01         2449     2184      3797     5317       1882            3210  \n",
              "2023-01-02        10486    12774     17374    23250      10322           19362  \n",
              "2023-01-04        12193    13949     19860    26294      11981           21784  \n",
              "2023-01-05        12888    14668     21235    27216      11787           22972  \n",
              "2023-01-06        12703    14199     23472    27073      11567           23411  "
            ]
          },
          "execution_count": 52,
          "metadata": {},
          "output_type": "execute_result"
        }
      ],
      "source": [
        "#Hay como 7 u 8 lineas con solo 1 Nan, decidimos borrarlas pero podriamos haber aproximado ese valor con los datos no faltantes\n",
        "Lineas_Nan_Count = pasajeros_por_linea.isnull().sum().sort_values()\n",
        "pasajeros_por_linea_limpio = pasajeros_por_linea.dropna(axis=1)\n",
        "pasajeros_por_linea_limpio = pasajeros_por_linea_limpio.rename(columns={'BS_ASLINEA_123':'BSAS_LINEA_123'})\n",
        "pasajeros_por_linea_limpio.columns = pasajeros_por_linea_limpio.columns.str.replace(' ', '_')\n",
        "pasajeros_por_linea_limpio.head()"
      ]
    },
    {
      "cell_type": "markdown",
      "metadata": {
        "id": "jZ1H20QP_bSu"
      },
      "source": [
        "#### **(c) Se quiere ajustar la cantidad de pasajeros en la línea BSAS_LINEA_009 en función de los pasajeros en otras líneas. Proponer tres modelos de regresión distintos. En cada modelo, pueden utilizarse la información solo de otras 5 líneas de colectivos (pueden ser distintas líneas de colectivo en los distintos modelos). Los criterios de selección de esas 5 columnas los determinan ustedes, y deben estar explicitados en el informe.**"
      ]
    },
    {
      "cell_type": "markdown",
      "metadata": {
        "id": "np9BOMRw_bSv"
      },
      "source": [
        "Para ajustar la cantidad de pasajeros en la linea BSAS_LINEA_009 proponemos los siguientes 3 modelos:\n",
        "- Lineas elegidas al azar para tener uno con el cual comparar\n",
        "- Las lineas que maximicen la correlacion lineal directa (Matriz de correlacion)\n",
        "- Lineas que sean cercanas o inteseccionen con la linea 009"
      ]
    },
    {
      "cell_type": "code",
      "execution_count": 53,
      "metadata": {
        "colab": {
          "base_uri": "https://localhost:8080/",
          "height": 225
        },
        "id": "QFi71KyZ_bSv",
        "outputId": "515e0a8a-57e5-47fc-a7f5-ee8e4d424a62"
      },
      "outputs": [
        {
          "data": {
            "text/plain": [
              "BSAS_LINEA_009    1.000000\n",
              "LINEA_101         0.976802\n",
              "BSAS_LINEA_146    0.975382\n",
              "LINEA_7           0.974210\n",
              "BSAS_LINEA_024    0.973111\n",
              "                    ...   \n",
              "BSAS_LINEA_032    0.858388\n",
              "BSAS_LINEA_153    0.840357\n",
              "BSAS_LINEA_075    0.810231\n",
              "BSAS_LINEA_158    0.804953\n",
              "BSAS_LINEA_193    0.744197\n",
              "Name: BSAS_LINEA_009, Length: 124, dtype: float64"
            ]
          },
          "metadata": {},
          "output_type": "display_data"
        }
      ],
      "source": [
        "Correlacion_Lineas = pasajeros_por_linea_limpio.corr()['BSAS_LINEA_009'].sort_values(ascending=False)\n",
        "display(Correlacion_Lineas)"
      ]
    },
    {
      "cell_type": "markdown",
      "metadata": {
        "id": "-g0X8rCJ_bSv"
      },
      "source": [
        "Como podemos ver, la correlacion entre la linea 9 y las demas es bastante alta, teniendo varias lineas por arriba de 0.95, por tanto elegir \"el mejor modelo\" es una tarea complicada, ya que probablemente los R cuadrado nos den del orden de 0.9"
      ]
    },
    {
      "cell_type": "code",
      "execution_count": 54,
      "metadata": {
        "id": "MBRrWLGm_bSv"
      },
      "outputs": [],
      "source": [
        "X = pasajeros_por_linea_limpio.drop('BSAS_LINEA_009', axis=1)\n",
        "y = pasajeros_por_linea_limpio['BSAS_LINEA_009']\n"
      ]
    },
    {
      "cell_type": "code",
      "execution_count": 55,
      "metadata": {
        "id": "giAtIjYs_bSw"
      },
      "outputs": [],
      "source": [
        "X_train, X_test, y_train, y_test = train_test_split(X, y, test_size=0.8, random_state=34)"
      ]
    },
    {
      "cell_type": "markdown",
      "metadata": {
        "id": "afgSFn6s_bSw"
      },
      "source": [
        "Para analizar los modelos vamos a utilizar las siguientes funciones, que dado un modelo, calculan el R-cuadrado y el Error cuadratico medio de los casos de conjunto de entrenamiento y del de testeo"
      ]
    },
    {
      "cell_type": "code",
      "execution_count": 56,
      "metadata": {
        "id": "GEh86uut_bSw"
      },
      "outputs": [],
      "source": [
        "#Funcion para generar formula lineal\n",
        "def generadorFormula(L):\n",
        "    res = ''\n",
        "    for elem in L:\n",
        "        res += str(elem) + ' + '\n",
        "    res = \"~ -1 +\" + res[:-3] #Si no agrego el -1, me da un intercept enorme y no mejora mucho los parametros de bondad\n",
        "    return res\n",
        "\n",
        "#Calcular error cuadratico medio y R2\n",
        "def bondadAjuste(y_real, y_pred):\n",
        "    R2 = r2_score(y_real, y_pred)\n",
        "    ECM = mean_squared_error(y_real, y_pred)\n",
        "    print(f'R2: {R2 :.4f} \\nECM: {ECM :.0f}')\n",
        "\n",
        "def AnalisisRL(Lineas, X_train, y_train, X_test, y_test):\n",
        "    formula     = generadorFormula(Lineas)\n",
        "    X_model     = model_matrix(formula, data=X_train)\n",
        "    modelo      = LinearRegression(fit_intercept=False)\n",
        "    modelo.fit(X_model, y_train)\n",
        "    y_pred_train= modelo.predict(X_model)\n",
        "    y_pred_test = modelo.predict(model_matrix(formula, data=X_test))\n",
        "    print('Entrenamiento:')\n",
        "    bondadAjuste(y_train, y_pred_train)\n",
        "    print('\\nTest:')\n",
        "    bondadAjuste(y_test, y_pred_test)\n",
        "    return modelo\n"
      ]
    },
    {
      "cell_type": "code",
      "execution_count": 57,
      "metadata": {
        "id": "FY2YHKvK_bSx"
      },
      "outputs": [],
      "source": [
        "#Tomo 5 lineas al azar y analizo el modelo\n",
        "Lineas = list(X.columns.unique())\n",
        "Lineas_Al_Azar = ['BSAS_LINEA_017', 'LINEA_33', 'BSAS_LINEA_061', 'BSAS_LINEA_105', 'BSAS_LINEA_046']"
      ]
    },
    {
      "cell_type": "code",
      "execution_count": 58,
      "metadata": {
        "colab": {
          "base_uri": "https://localhost:8080/",
          "height": 516
        },
        "id": "ZYlMR8yP_bSx",
        "outputId": "208f2827-c129-475f-d68c-c3da8b22bd92"
      },
      "outputs": [
        {
          "name": "stdout",
          "output_type": "stream",
          "text": [
            "Entrenamiento:\n",
            "R2: 0.9439 \n",
            "ECM: 7209315\n",
            "\n",
            "Test:\n",
            "R2: 0.8439 \n",
            "ECM: 13824552\n"
          ]
        },
        {
          "data": {
            "image/png": "[encoded data removed]",
            "text/plain": [
              "<seaborn._core.plot.Plot at 0x174d29342d0>"
            ]
          },
          "execution_count": 58,
          "metadata": {
            "image/png": {
              "height": 378.25,
              "width": 509.15
            }
          },
          "output_type": "execute_result"
        }
      ],
      "source": [
        "modelo_Al_Azar = AnalisisRL(Lineas_Al_Azar, X_train, y_train, X_test, y_test)\n",
        "so.Plot(x = np.arange(len(modelo_Al_Azar.coef_)), y = modelo_Al_Azar.coef_).add(so.Bar())"
      ]
    },
    {
      "cell_type": "code",
      "execution_count": 59,
      "metadata": {
        "colab": {
          "base_uri": "https://localhost:8080/",
          "height": 516
        },
        "id": "ndcpe8q1_bSy",
        "outputId": "5be73894-d473-454f-cd67-28969040cf1f"
      },
      "outputs": [
        {
          "name": "stdout",
          "output_type": "stream",
          "text": [
            "Entrenamiento:\n",
            "R2: 0.9800 \n",
            "ECM: 2567728\n",
            "\n",
            "Test:\n",
            "R2: 0.9519 \n",
            "ECM: 4261888\n"
          ]
        },
        {
          "data": {
            "image/png": "[encoded data removed]",
            "text/plain": [
              "<seaborn._core.plot.Plot at 0x174d2de7810>"
            ]
          },
          "execution_count": 59,
          "metadata": {
            "image/png": {
              "height": 378.25,
              "width": 509.15
            }
          },
          "output_type": "execute_result"
        }
      ],
      "source": [
        "# Tomo las 5 lineas con mayor correlacion\n",
        "Correlacion_Lineas = pasajeros_por_linea_limpio.corr()['BSAS_LINEA_009'].sort_values(ascending=False)\n",
        "Lineas_Mayor_corr = list(Correlacion_Lineas[1:6].index)\n",
        "Modelo_Mayor_corr = AnalisisRL(Lineas_Mayor_corr, X_train, y_train, X_test, y_test)\n",
        "so.Plot(x = np.arange(len(Modelo_Mayor_corr.coef_)), y = Modelo_Mayor_corr.coef_).add(so.Bar())"
      ]
    },
    {
      "cell_type": "code",
      "execution_count": 60,
      "metadata": {
        "colab": {
          "base_uri": "https://localhost:8080/",
          "height": 516
        },
        "id": "2sR62OKq_bSy",
        "outputId": "1d12f8b9-2960-4255-b005-e08e7bd8ee96"
      },
      "outputs": [
        {
          "name": "stdout",
          "output_type": "stream",
          "text": [
            "Entrenamiento:\n",
            "R2: 0.9717 \n",
            "ECM: 3634105\n",
            "\n",
            "Test:\n",
            "R2: 0.9171 \n",
            "ECM: 7338840\n"
          ]
        },
        {
          "data": {
            "image/png": "[encoded data removed]",
            "text/plain": [
              "<seaborn._core.plot.Plot at 0x174d954ca50>"
            ]
          },
          "execution_count": 60,
          "metadata": {
            "image/png": {
              "height": 378.25,
              "width": 509.15
            }
          },
          "output_type": "execute_result"
        }
      ],
      "source": [
        "#Lineas cercanas 158, 188, 25, 91\n",
        "Lineas_Cercanas_inicio = ['158', '188', '25', '91']\n",
        "Lineas_Cercanas_Columnas = [cadena for cadena in Lineas if any(sec in cadena for sec in Lineas_Cercanas_inicio)]\n",
        "Modelo_Cercanas = AnalisisRL(Lineas_Cercanas_Columnas, X_train, y_train, X_test, y_test)\n",
        "so.Plot(x = np.arange(len(Modelo_Cercanas.coef_)), y = Modelo_Cercanas.coef_).add(so.Bar())\n"
      ]
    },
    {
      "cell_type": "markdown",
      "metadata": {
        "id": "VYUPcx0t_bSy"
      },
      "source": [
        "#### **(d) Si alguno de los modelos es Regresión Ridge, determinar mediante un esquema de validación el hiperparámetro α.**"
      ]
    },
    {
      "cell_type": "markdown",
      "metadata": {
        "id": "zXWcPkny_bSz"
      },
      "source": [
        "En ninguno de los 3 modelos utilizamos el metodo de regresion Ridge ya que todos los valores de los coeficiente eran razonables y no observamos cancelacion catastrafoca por lo que creemos que el metodo ridge no mejoraria mucho el modelo"
      ]
    },
    {
      "cell_type": "code",
      "execution_count": 61,
      "metadata": {
        "colab": {
          "base_uri": "https://localhost:8080/"
        },
        "id": "1414HLmt_bSz",
        "outputId": "8f1a9e62-69b7-4c3d-f477-09673f748f76"
      },
      "outputs": [
        {
          "name": "stdout",
          "output_type": "stream",
          "text": [
            "10000.0\n",
            "7021811.031730947\n"
          ]
        }
      ],
      "source": [
        "formula = generadorFormula(Lineas_Cercanas_Columnas)\n",
        "Modelo_Con_Ridge = model_matrix(formula, data=X_train)\n",
        "alphas = np.logspace(-3, 4, 30)\n",
        "mejor_alpha = 0\n",
        "minimo_ECM_test = 10**10\n",
        "for alpha in alphas:\n",
        "    RegresionRidge = Ridge(alpha=alpha)\n",
        "    X_model     = model_matrix(formula, data=X_train)\n",
        "    RegresionRidge.fit(X_model, y_train)\n",
        "    y_pred_train= RegresionRidge.predict(X_model)\n",
        "    y_pred_test = RegresionRidge.predict(model_matrix(formula, data=X_test))\n",
        "    ECM_train = mean_squared_error(y_train, y_pred_train)\n",
        "    ECM_test = mean_squared_error(y_test, y_pred_test)\n",
        "    if minimo_ECM_test > ECM_test:\n",
        "        minimo_ECM_test = ECM_test\n",
        "        mejor_alpha = alpha\n",
        "\n",
        "print(mejor_alpha)\n",
        "print(minimo_ECM_test)"
      ]
    },
    {
      "cell_type": "markdown",
      "metadata": {
        "id": "5QoSELGE_bSz"
      },
      "source": [
        "Como podemos ver el ECM utilizando Ridge, con el mejor alpha en terminos de ECM del test, es del orden de 7000000, mientras que el metodo de regresion lineal, con las mismas lineas de colectivo, nos da un ECM del orden de 7300000, sin la nececidad de utilizar un parametro extra."
      ]
    },
    {
      "cell_type": "markdown",
      "metadata": {
        "id": "jqfTFUkr_bS1"
      },
      "source": [
        "#### **(e) Proponer un esquema de validación de los modelos y utilizarlo para seleccionar el mejor de los tres modelos propuestos.**"
      ]
    },
    {
      "cell_type": "markdown",
      "metadata": {
        "id": "Uie5NIHg_bS2"
      },
      "source": [
        "En cada modelo utilizamos el R-cuadrado y el ECM para analizar la bondad de cada uno. Como podemos ver el que maximiza el R-cuadrado y minimiza el ECM es en el que tomamos las lineas de mayor correlacion.\n"
      ]
    },
    {
      "cell_type": "code",
      "execution_count": 63,
      "metadata": {
        "colab": {
          "base_uri": "https://localhost:8080/",
          "height": 560
        },
        "id": "kYAWsHJk_bS2",
        "outputId": "72443198-13c2-4785-9302-e46dbc9ba290"
      },
      "outputs": [
        {
          "name": "stdout",
          "output_type": "stream",
          "text": [
            "Lineas con mayor correlacion\n",
            "Entrenamiento:\n",
            "R2: 0.9800 \n",
            "ECM: 2567728\n",
            "\n",
            "Test:\n",
            "R2: 0.9519 \n",
            "ECM: 4261888\n",
            "\n",
            "\n",
            "Lineas cercanas a la 009\n",
            "Entrenamiento:\n",
            "R2: 0.9717 \n",
            "ECM: 3634105\n",
            "\n",
            "Test:\n",
            "R2: 0.9171 \n",
            "ECM: 7338840\n",
            "\n",
            "\n",
            "Lineas elegidas al azar\n",
            "Entrenamiento:\n",
            "R2: 0.9439 \n",
            "ECM: 7209315\n",
            "\n",
            "Test:\n",
            "R2: 0.8439 \n",
            "ECM: 13824552\n",
            "\n"
          ]
        }
      ],
      "source": [
        "print('Lineas con mayor correlacion')\n",
        "AnalisisRL(Lineas_Mayor_corr, X_train, y_train, X_test, y_test)\n",
        "\n",
        "print(\"\\n\\nLineas cercanas a la 009\")\n",
        "AnalisisRL(Lineas_Cercanas_Columnas, X_train, y_train, X_test, y_test)\n",
        "\n",
        "print(\"\\n\\nLineas elegidas al azar\")\n",
        "AnalisisRL(Lineas_Al_Azar, X_train, y_train, X_test, y_test)\n",
        "print()"
      ]
    },
    {
      "cell_type": "markdown",
      "metadata": {
        "id": "jbJe_AO9_bS3"
      },
      "source": [
        "#### **(f) Para el modelo elegido, indicar la fórmula final de modelo.**"
      ]
    },
    {
      "cell_type": "markdown",
      "metadata": {
        "id": "AD29Sg2p_bS4"
      },
      "source": [
        "Formula del modelo de mayor correlacion:\n",
        "$$ L_{9} = 0.34L_{101} + 0.02L_{146} + 0.61L_{7} + 0.08L_{24} + 0.03L_{107}$$"
      ]
    }
  ],
  "metadata": {
    "colab": {
      "collapsed_sections": [
        "la0cwaxP_bSs"
      ],
      "provenance": []
    },
    "kernelspec": {
      "display_name": "Python 3",
      "name": "python3"
    },
    "language_info": {
      "codemirror_mode": {
        "name": "ipython",
        "version": 3
      },
      "file_extension": ".py",
      "mimetype": "text/x-python",
      "name": "python",
      "nbconvert_exporter": "python",
      "pygments_lexer": "ipython3",
      "version": "3.11.3"
    }
  },
  "nbformat": 4,
  "nbformat_minor": 0
}
